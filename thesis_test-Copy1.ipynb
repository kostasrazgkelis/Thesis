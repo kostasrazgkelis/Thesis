{
 "cells": [
  {
   "cell_type": "code",
   "execution_count": 1,
   "id": "54eabc84-d793-4183-920d-ac4f20ab2902",
   "metadata": {},
   "outputs": [
    {
     "name": "stdout",
     "output_type": "stream",
     "text": [
      "Requirement already satisfied: jellyfish in /opt/conda/lib/python3.11/site-packages (1.2.0)\n",
      "Requirement already satisfied: faker in /opt/conda/lib/python3.11/site-packages (37.1.0)\n",
      "Requirement already satisfied: tzdata in /opt/conda/lib/python3.11/site-packages (from faker) (2023.3)\n"
     ]
    }
   ],
   "source": [
    "!pip install jellyfish\n",
    "!pip install faker"
   ]
  },
  {
   "cell_type": "code",
   "execution_count": 1,
   "id": "c7fa1b45-7b04-4cc2-a017-5cfbf9ffec54",
   "metadata": {},
   "outputs": [],
   "source": [
    "import pyspark\n",
    "import jellyfish\n",
    "import pandas as pd\n",
    "import numpy as np\n",
    "from typing import List\n",
    "import os\n",
    "import math\n",
    "from itertools import combinations, product\n",
    "import time\n",
    "from concurrent.futures import ProcessPoolExecutor\n",
    "from collections import defaultdict\n",
    "from packages.generateDataSets import SyntheticMatcherDataset\n",
    "from packages.calculateStatistics import DatasetEvaluator"
   ]
  },
  {
   "cell_type": "code",
   "execution_count": 2,
   "id": "263d1dfd-42da-463a-9eed-86cf9556e4ef",
   "metadata": {},
   "outputs": [],
   "source": [
    "class MyClass:\n",
    "    def __init__(self, df1: pd.DataFrame, \n",
    "                 df2: pd.DataFrame, \n",
    "                 matchColumn: str, \n",
    "                 on: List = [],\n",
    "                 method: str = 'column', \n",
    "                 threshold: float  = 0.6):\n",
    "        self.df1 = df1\n",
    "        self.df2 = df2\n",
    "        self.on = on\n",
    "        self.threshold = threshold\n",
    "\n",
    "        if method not in [\"concat\", \"column\"]:\n",
    "            raise ValueError(f\"Method '{method}' is not correct.\")\n",
    "        self.method = method\n",
    "\n",
    "    \n",
    "        if matchColumn not in self.df1.columns or matchColumn not in self.df2.columns:\n",
    "            raise ValueError(f\"Column '{matchColumn}' is not found in both DataFrames.\")\n",
    "        self.matchColumn = matchColumn\n",
    "        \n",
    "        self.groundTruth = None\n",
    "        self.totalMatches = None        \n",
    "    \n",
    "    def setGroundTruth(self):\n",
    "        \"\"\"Sets the ground truth based on matching 'id' columns.\"\"\"\n",
    "        self.groundTruth = np.intersect1d(self.df1[self.matchColumn], self.df2[self.matchColumn])\n",
    "\n",
    "    def soundexDfs(self):\n",
    "        \"\"\"Apply soundex transformation to non-id columns.\"\"\"\n",
    "        for df in [self.df1, self.df2]:\n",
    "            for col_name in df.columns:\n",
    "                if col_name != self.matchColumn:\n",
    "                    df[col_name] = df[col_name].apply(lambda x: jellyfish.soundex(str(x)))\n",
    "\n",
    "            if self.method == 'concat':\n",
    "                non_match_columns = [col for col in df.columns if col != self.matchColumn]\n",
    "                df['concatenated'] = df[non_match_columns].apply(lambda row: ''.join(row.astype(str)), axis=1)\n",
    "                df.drop(columns=non_match_columns, inplace=True)\n",
    "\n",
    "    def setTotalMatches(self):\n",
    "        \"\"\"Sets the total matches based on merged DataFrames.\"\"\"\n",
    "        \n",
    "        # if self.method == 'concat':\n",
    "        #     self.totalMatches = self.df1.merge(self.df2, how=\"inner\", on=['concatenated']).to_numpy()\n",
    "        # else:   \n",
    "        #     self.totalMatches = self.df1.merge(self.df2, how=\"outer\", on=self.on + [self.matchColumn]).to_numpy()\n",
    "\n",
    "        self.totalMatches =  self.df1.merge(pd.concat([self.df1, self.df2]), how='outer', on=self.on)[[\"0_y\"] + self.on]\n",
    "        self.totalMatches.rename(columns={'0_y': self.matchColumn}, inplace=True)\n",
    "        \n",
    "    def printStatistics(self):\n",
    "        \"\"\"Print statistics (True Positives, False Positives, Precision).\"\"\"\n",
    "        myStatistics = self.Statistics(groundTruth=self.groundTruth, \n",
    "                                       totalMatches=self.totalMatches, \n",
    "                                       threshold=self.threshold, \n",
    "                                       on=self.on, \n",
    "                                       matchColumn=self.matchColumn)\n",
    "        myStatistics.calculate()\n",
    "\n",
    "    # Inner class Statistics\n",
    "    class Statistics:\n",
    "        def __init__(self,\n",
    "                     groundTruth: pd.DataFrame, \n",
    "                     totalMatches: pd.DataFrame, \n",
    "                     threshold : float = 0.8,\n",
    "                     matchColumn: str | int = 1,\n",
    "                     on: List =[]):\n",
    "            self.groundTruth = pd.DataFrame(groundTruth)\n",
    "            self.totalMatches = pd.DataFrame(totalMatches)\n",
    "            self.threshold = threshold\n",
    "            self.matchColumn = matchColumn\n",
    "            self.on = on\n",
    "\n",
    "            self._setThresholdValues()\n",
    "            \n",
    "        def calculate(self):\n",
    "            # self.result = self.totalMatches.groupby(self.matchColumn)\\\n",
    "            #         .filter(lambda x : len(x) >=2)\\\n",
    "            #         .groupby(self.matchColumn)\\\n",
    "            #         .apply(lambda x: x.iloc[:, 1:].apply(lambda x: x.nunique() == 1)).sum(axis=1)\n",
    "\n",
    "            duplicates = self.totalMatches[self.totalMatches[[1,2,3,4,5]].duplicated(keep=False)].sort_values(by=[1,2,3,4,5])\n",
    "        \n",
    "            # Function to check if two rows match at least 3/5 columns\n",
    "            def is_duplicate(row1, row2):\n",
    "                return sum(row1 == row2) >=  self.matchingRows  # At least 3 matches out of 5\n",
    "\n",
    "            # print(duplicates)\n",
    "            \n",
    "            duplicate_pairs = []\n",
    "            # Find duplicates\n",
    "            for i in range(len(duplicates)):\n",
    "                for j in range(i + 1, len(duplicates)):  # Compare only unique pairs\n",
    "                    if is_duplicate(duplicates.iloc[i, 1:], duplicates.iloc[j, 1:]):\n",
    "                        duplicate_pairs.append((i, j, duplicates.iloc[i, 0] == duplicates.iloc[j, 0]))  # Store (index1, index2, same_id)\n",
    "\n",
    "            # Count same ID and different ID duplicates\n",
    "            tp = sum(1 for _, _, same_id in duplicate_pairs if same_id)\n",
    "            fp = len(duplicate_pairs) - same_id_count\n",
    "            fn = self.groundTruth.size - tp\n",
    "            \n",
    "            precision = tp / (tp + fp) if tp + fp != 0 else 0 \n",
    "            recall = tp / (tp + fn)  if tp + fn != 0 else 0\n",
    "            f1_score = (2 * precision * recall) / (precision + recall)\n",
    "            \n",
    "            print(\"Total Possible Mathces:\", self.groundTruth.size)\n",
    "            print(\"True Positives (TP):\", tp)\n",
    "            print(\"False Positives (FP):\", fp)\n",
    "            print(\"False Negatives (FN):\", fn)\n",
    "            print(\"Precision:\", f\"{precision:.4f}\")\n",
    "            print(\"Recall:\", f\"{recall:.4f}\")\n",
    "            print(\"F1-score:\", f\"{f1_score:.4f}\")\n",
    "\n",
    "        def _matchingAlgorithm(self, group):\n",
    "            return group.nunique() == 1\n",
    "            \n",
    "        def _setThresholdValues(self) -> List:\n",
    "            size = len(self.totalMatches.columns) - 1\n",
    "            limit = math.floor(self.threshold * size)\n",
    "            \n",
    "            print(f\"We accept at least {limit}/{size} as matches!\") \n",
    "            self.matchingRows = limit\n",
    "            # return [i for i in range(size, limit , -1)]\n",
    "            "
   ]
  },
  {
   "cell_type": "code",
   "execution_count": 14,
   "id": "0d804a1c-5175-4398-b9a5-30b12ac8386b",
   "metadata": {},
   "outputs": [],
   "source": [
    "PATH  =  \"data/\"\n",
    "\n",
    "df1 = pd.read_csv(os.path.join(PATH, 'df1.csv'), header=None)[[0,1,2,3,4,5]]\n",
    "df2 = pd.read_csv(os.path.join(PATH, 'df2.csv'), header=None)[[0,1,2,3,4,5]]\n",
    "df3 = pd.read_csv(os.path.join(PATH, 'df3.csv'), header=None)[[0,1,2,3,4,5]]\n",
    "df4 = pd.read_csv(os.path.join(PATH, 'df4.csv'), header=None)[[0,1,2,3,4,5]]\n",
    "df5 = pd.read_csv(os.path.join(PATH, 'df5.csv'), header=None)[[0,1,2,3,4,5]]\n",
    "\n",
    "# Run pipeline and see statistics\n",
    "pipeline = MyClass(df1, df2, matchColumn=0, on=[1,2,3,4,5], method=\"column\", threshold = 0.6) #  --> this means at least 3/5 of the fields must match \n",
    "pipeline.setGroundTruth()\n",
    "pipeline.soundexDfs()\n",
    "\n",
    "df1, df2 = pipeline.df1.copy(), pipeline.df2.copy()\n",
    "\n",
    "# Run pipeline and see statistics\n",
    "pipeline = MyClass(df3, df4, matchColumn=0, on=[1,2,3,4,5], method=\"column\", threshold = 0.6) #  --> this means at least 3/5 of the fields must match \n",
    "pipeline.setGroundTruth()\n",
    "pipeline.soundexDfs()\n",
    "\n",
    "df3, df4 = pipeline.df1.copy(), pipeline.df2.copy()\n",
    "\n",
    "pipeline = MyClass(df1.copy(), df5, matchColumn=0, on=[1,2,3,4,5], method=\"column\", threshold = 0.6) #  --> this means at least 3/5 of the fields must match \n",
    "pipeline.setGroundTruth()\n",
    "pipeline.soundexDfs()\n",
    "\n",
    "df5 = pipeline.df2.copy()"
   ]
  },
  {
   "cell_type": "code",
   "execution_count": 4,
   "id": "12492b90-54e7-4707-9c6d-cf1070265fdb",
   "metadata": {
    "scrolled": true
   },
   "outputs": [
    {
     "name": "stdout",
     "output_type": "stream",
     "text": [
      "Expected: {}\n",
      "Ground Truth Size: 25000\n",
      "True Positives: 19036\n",
      "False Positives: 17830\n",
      "False Negatives: 5964\n",
      "Precision: 0.5164\n",
      "Recall: 0.7614\n",
      "Elapsed Time: 33682.16 seconds\n"
     ]
    }
   ],
   "source": [
    "evaluator = DatasetEvaluator(pipeline.df1, pipeline.df2, threshold=3)\n",
    "evaluator.evaluate()\n",
    "evaluator.printResults()"
   ]
  },
  {
   "cell_type": "code",
   "execution_count": 8,
   "id": "f7754327-ae4f-483b-a4d2-3e40e677ee99",
   "metadata": {},
   "outputs": [
    {
     "data": {
      "text/plain": [
       "0.5848768298356806"
      ]
     },
     "execution_count": 8,
     "metadata": {},
     "output_type": "execute_result"
    }
   ],
   "source": [
    "1 - 33682.16/81137.75"
   ]
  },
  {
   "cell_type": "code",
   "execution_count": null,
   "id": "e3013db6-b66b-491b-bfe2-d07daf5e4a8e",
   "metadata": {},
   "outputs": [],
   "source": [
    "\n",
    "\n",
    "\n",
    "# df1 -> df2\n",
    "thresh = 3\n",
    "Expected: {}\n",
    "Ground Truth Size: 25000\n",
    "True Positives: 19036\n",
    "False Positives: 17830\n",
    "False Negatives: 5964\n",
    "Precision: 0.5164\n",
    "Recall: 0.7614\n",
    "Elapsed Time: 81137.75 seconds\n",
    "\n",
    "\n",
    "# df1 -> df5\n",
    "thresh = 2\n",
    "Expected: {}\n",
    "Ground Truth Size: 25000\n",
    "True Positives: 24977\n",
    "False Positives: 74055\n",
    "False Negatives: 23\n",
    "Precision: 0.2522\n",
    "Recall: 0.9991\n",
    "Elapsed Time: 4861.54 seconds\n",
    "\n",
    "# df1 -> df5\n",
    "thresh = 3\n",
    "Expected: {}\n",
    "Ground Truth Size: 25000\n",
    "True Positives: 19125\n",
    "False Positives: 16323\n",
    "False Negatives: 5875\n",
    "Precision: 0.5395\n",
    "Recall: 0.7650\n",
    "Elapsed Time: 80256.47 seconds"
   ]
  },
  {
   "cell_type": "code",
   "execution_count": 1,
   "id": "54a3d4cf-36e3-4b0e-96eb-5f4923a1274e",
   "metadata": {},
   "outputs": [],
   "source": [
    "import pyspark\n",
    "import jellyfish\n",
    "import pandas as pd\n",
    "import numpy as np\n",
    "from typing import List\n",
    "import os\n",
    "import math\n",
    "from itertools import combinations, product\n",
    "import time\n",
    "from concurrent.futures import ProcessPoolExecutor\n",
    "from collections import defaultdict\n",
    "from packages.generateDataSets import SyntheticMatcherDataset\n",
    "from packages.calculateStatistics import DatasetEvaluator"
   ]
  },
  {
   "cell_type": "code",
   "execution_count": 68,
   "id": "603541e9-4f75-435c-86aa-7e45489ef7b3",
   "metadata": {
    "scrolled": true
   },
   "outputs": [],
   "source": [
    "# Create two datasets with slight variations\n",
    "# Data have 3 matches and one \n",
    "data1 = {\n",
    "    0: [101, 102, 103, 104, 105, 106, 107, 108, 109, 110],\n",
    "    1: [\"Kostas\", \"Maria\", \"John\", \"Sophia\", \"George\", \"Eleni\", \"Michael\", \"Anna\", \"Chris\", \"Dimitris\"],\n",
    "    2: [\"Razgkelis\", \"Papadopoulos\", \"Smith\", \"Johnson\", \"Pavlou\", \"Nikolaou\", \"Brown\", \"Miller\", \"Taylor\", \"Andreas\"],\n",
    "    3: [\"Orestiada\", \"Thessaloniki\", \"Grevena\", \"Athina\", \"Aleksandroupoli\", \"Giannena\", \"Larissa\", \"Komotini\", \"Trikala\", \"Kozani\"],\n",
    "    4: ['Jennifer Lights', 'Brandon Lakes', 'Aguilar Stravenue', 'Richardson Ferry', 'Freeman Way', \n",
    "        'Gabrielle Underpass', 'Burns Summit', 'Heather Village', 'Jamie Common', 'Greg Lock'],\n",
    "    5:  ['Cooper and Sons', 'Pope LLC', 'Fowler-Smith', 'Torres PLC', 'Jones LLC', 'White, Duncan and Robinson', 'Hayden Inc', \n",
    "         'Wilson and Sons', 'Peterson, Smith and Robinson','Hudson, Phelps and Day'],\n",
    "    \n",
    "}\n",
    "\n",
    "data2 = {\n",
    "    0: [101, 202, 203, 204, 205, 206, 207, 208, 209, 110],\n",
    "    1: [\"Kistas\", \"Maria\", \"John\", \"Sophasdia\", \"Giorge\", \"Elendsi\", \"Micheal\", \"Ana\", \"Khris\", \"Dimtris\"],\n",
    "    2: [\"Rozgkliiis\", \"Papadopoulos\", \"Smith\", \"Johnson\", \"Pavlodvu\", \"Nikolaou\", \"Batrrroun\", \"antMiler\", \"Tttayloor\", \"Andres\"],\n",
    "    3: [\"Orestiada\", \"Thessaloniki\", \"Grevena\", \"Athina\", \"Aleksandrouasdpoli\", \"Gianasdna\", \"Larasdissa\", \"Komasdini\", \"Trsadala\", \"Koxani\"],\n",
    "    4: [\"Jnnfer Lights\", 'Brandon Lakes', 'Aguilar Stravenue', 'RichardasasdaFerry', 'Freasdeman Way', 'Gabrielle Underpass', 'Burasdas mmit', 'Heatasasdllage', 'JamasdCommon', 'Grg Lck'],\n",
    "    5:  ['Cpeeer and ons', 'Pope LLC', 'Fowler-Smith', 'Torvasd PLC', 'Jonasda LLC', 'Whitasddvuncan and Robinson', 'Hayasdasv Inc', \n",
    "         'Wasdvand Sons', 'Petersosdvaith and Robinson','Htsn, Phelps and Day'],\n",
    "}\n",
    "\n",
    "\n"
   ]
  },
  {
   "cell_type": "code",
   "execution_count": 114,
   "id": "d6b22753-5166-46e7-b4d2-b0875bc3e1e0",
   "metadata": {
    "scrolled": true
   },
   "outputs": [],
   "source": [
    "\n",
    "# Convert to DataFrame\n",
    "df1 = pd.DataFrame(data1)\n",
    "df2 = pd.DataFrame(data2)\n",
    "\n",
    "# Run pipeline and see statistics\n",
    "pipeline = MyClass(df1, df2, matchColumn=0, on=[1, 2, 3, 4, 5], threshold=0.4)\n",
    "pipeline.setGroundTruth()\n",
    "pipeline.soundexDfs()\n",
    "pipeline.setTotalMatches()\n",
    "# pipeline.printStatistics()"
   ]
  },
  {
   "cell_type": "code",
   "execution_count": 30,
   "id": "8e61a9ab-5dfa-42af-930f-5322c13c0b3b",
   "metadata": {},
   "outputs": [],
   "source": [
    "PATH  =  \"data/\"\n",
    "\n",
    "df1 = pd.read_csv(os.path.join(PATH, 'df1.csv'), header=None)[[0,1,2,3,4,5]]\n",
    "df2 = pd.read_csv(os.path.join(PATH, 'df2.csv'), header=None)[[0,1,2,3,4,5]]\n",
    "\n",
    "# Run pipeline and see statistics\n",
    "pipeline = MyClass(df1, df2, matchColumn=0, on=[1,2,3,4,5], method=\"column\", threshold = 0.6) #  --> this means at least 3/5 of the fields must match \n",
    "pipeline.setGroundTruth()\n",
    "pipeline.soundexDfs()\n",
    "\n",
    "# evaluator = DatasetEvaluator(pipeline.df1, pipeline.df2, expected, threshold=3)\n",
    "# evaluator.evaluate()\n",
    "# evaluator.printResults()"
   ]
  },
  {
   "cell_type": "code",
   "execution_count": 9,
   "id": "37fcd5ed-4335-4743-84b1-f40ee90eb084",
   "metadata": {},
   "outputs": [
    {
     "ename": "NameError",
     "evalue": "name 'expected' is not defined",
     "output_type": "error",
     "traceback": [
      "\u001b[0;31m---------------------------------------------------------------------------\u001b[0m",
      "\u001b[0;31mNameError\u001b[0m                                 Traceback (most recent call last)",
      "Cell \u001b[0;32mIn[9], line 1\u001b[0m\n\u001b[0;32m----> 1\u001b[0m evaluator \u001b[38;5;241m=\u001b[39m DatasetEvaluator(pipeline\u001b[38;5;241m.\u001b[39mdf1, pipeline\u001b[38;5;241m.\u001b[39mdf2, \u001b[43mexpected\u001b[49m, threshold\u001b[38;5;241m=\u001b[39m\u001b[38;5;241m3\u001b[39m)\n\u001b[1;32m      2\u001b[0m evaluator\u001b[38;5;241m.\u001b[39mevaluate()\n\u001b[1;32m      3\u001b[0m evaluator\u001b[38;5;241m.\u001b[39mprintResults()\n",
      "\u001b[0;31mNameError\u001b[0m: name 'expected' is not defined"
     ]
    }
   ],
   "source": []
  },
  {
   "cell_type": "code",
   "execution_count": 6,
   "id": "417a7d24-9413-4a66-9007-b0000707ef6b",
   "metadata": {},
   "outputs": [
    {
     "data": {
      "text/plain": [
       "22.293463888888887"
      ]
     },
     "execution_count": 6,
     "metadata": {},
     "output_type": "execute_result"
    }
   ],
   "source": [
    "80256.47/60/60"
   ]
  },
  {
   "cell_type": "code",
   "execution_count": 19,
   "id": "9daaaf29-2c59-4fef-875d-9d579ffc1e6c",
   "metadata": {},
   "outputs": [],
   "source": [
    "df3, df4 = pipeline.df1, pipeline.df2"
   ]
  },
  {
   "cell_type": "code",
   "execution_count": 66,
   "id": "d22a4547-5419-4190-b7a9-56f3d8820988",
   "metadata": {},
   "outputs": [],
   "source": [
    "matchedData = pd.concat([df2]).drop_duplicates().reset_index(drop=True)"
   ]
  },
  {
   "cell_type": "code",
   "execution_count": 67,
   "id": "272e7229-d9ac-4e5f-b36b-d5a4b4786a28",
   "metadata": {},
   "outputs": [
    {
     "name": "stdout",
     "output_type": "stream",
     "text": [
      "Expected: {}\n",
      "Ground Truth Size: 271\n",
      "True Positives: 202\n",
      "False Positives: 252\n",
      "False Negatives: 69\n",
      "Precision: 0.4449\n",
      "Recall: 0.7454\n",
      "Elapsed Time: 808.63 seconds\n"
     ]
    }
   ],
   "source": [
    "evaluator = DatasetEvaluator(df1.sample(frac=0.01, random_state=42), matchedData, threshold=3)\n",
    "evaluator.evaluate()\n",
    "evaluator.printResults()"
   ]
  },
  {
   "cell_type": "code",
   "execution_count": 69,
   "id": "2a4e5a1b-23d4-40ca-8122-7444c411a33c",
   "metadata": {
    "scrolled": true
   },
   "outputs": [
    {
     "name": "stdout",
     "output_type": "stream",
     "text": [
      "Expected: {}\n",
      "Ground Truth Size: 25000\n",
      "True Positives: 24340\n",
      "False Positives: 29900\n",
      "False Negatives: 660\n",
      "Precision: 0.4487\n",
      "Recall: 0.9736\n",
      "Elapsed Time: 115024.55 seconds\n"
     ]
    }
   ],
   "source": [
    "matchedData = pd.concat([df2, df3, df4]).drop_duplicates().reset_index(drop=True)\n",
    "\n",
    "evaluator = DatasetEvaluator(df1, matchedData, threshold=3)\n",
    "evaluator.evaluate()\n",
    "evaluator.printResults()"
   ]
  },
  {
   "cell_type": "code",
   "execution_count": 68,
   "id": "e0195bf2-4835-458d-862d-c85baf424ba6",
   "metadata": {},
   "outputs": [
    {
     "name": "stdout",
     "output_type": "stream",
     "text": [
      "Expected: {}\n",
      "Ground Truth Size: 271\n",
      "True Positives: 202\n",
      "False Positives: 252\n",
      "False Negatives: 69\n",
      "Precision: 0.4449\n",
      "Recall: 0.7454\n",
      "Elapsed Time: 808.63 seconds\n"
     ]
    }
   ],
   "source": [
    "evaluator.printResults()"
   ]
  },
  {
   "cell_type": "code",
   "execution_count": 17,
   "id": "e3191df3-0688-4818-9be5-b80b3c4cf249",
   "metadata": {},
   "outputs": [
    {
     "data": {
      "text/html": [
       "<div>\n",
       "<style scoped>\n",
       "    .dataframe tbody tr th:only-of-type {\n",
       "        vertical-align: middle;\n",
       "    }\n",
       "\n",
       "    .dataframe tbody tr th {\n",
       "        vertical-align: top;\n",
       "    }\n",
       "\n",
       "    .dataframe thead th {\n",
       "        text-align: right;\n",
       "    }\n",
       "</style>\n",
       "<table border=\"1\" class=\"dataframe\">\n",
       "  <thead>\n",
       "    <tr style=\"text-align: right;\">\n",
       "      <th></th>\n",
       "      <th>0</th>\n",
       "      <th>1</th>\n",
       "      <th>2</th>\n",
       "      <th>3</th>\n",
       "      <th>4</th>\n",
       "      <th>5</th>\n",
       "    </tr>\n",
       "  </thead>\n",
       "  <tbody>\n",
       "    <tr>\n",
       "      <th>0</th>\n",
       "      <td>AA100000</td>\n",
       "      <td>B323</td>\n",
       "      <td>J520</td>\n",
       "      <td>A620</td>\n",
       "      <td>3523</td>\n",
       "      <td>G650</td>\n",
       "    </tr>\n",
       "    <tr>\n",
       "      <th>1</th>\n",
       "      <td>AA100004</td>\n",
       "      <td>B620</td>\n",
       "      <td>M240</td>\n",
       "      <td>E421</td>\n",
       "      <td>2251</td>\n",
       "      <td>B645</td>\n",
       "    </tr>\n",
       "    <tr>\n",
       "      <th>2</th>\n",
       "      <td>AA100006</td>\n",
       "      <td>B620</td>\n",
       "      <td>D520</td>\n",
       "      <td>W460</td>\n",
       "      <td>3345</td>\n",
       "      <td>H616</td>\n",
       "    </tr>\n",
       "    <tr>\n",
       "      <th>3</th>\n",
       "      <td>AA100007</td>\n",
       "      <td>K260</td>\n",
       "      <td>K600</td>\n",
       "      <td>L500</td>\n",
       "      <td>1225</td>\n",
       "      <td>G650</td>\n",
       "    </tr>\n",
       "    <tr>\n",
       "      <th>4</th>\n",
       "      <td>AA100008</td>\n",
       "      <td>K536</td>\n",
       "      <td>J600</td>\n",
       "      <td>F652</td>\n",
       "      <td>4235</td>\n",
       "      <td>B645</td>\n",
       "    </tr>\n",
       "    <tr>\n",
       "      <th>...</th>\n",
       "      <td>...</td>\n",
       "      <td>...</td>\n",
       "      <td>...</td>\n",
       "      <td>...</td>\n",
       "      <td>...</td>\n",
       "      <td>...</td>\n",
       "    </tr>\n",
       "    <tr>\n",
       "      <th>295962</th>\n",
       "      <td>AK132571</td>\n",
       "      <td>B260</td>\n",
       "      <td>C530</td>\n",
       "      <td>A500</td>\n",
       "      <td>7214</td>\n",
       "      <td>O252</td>\n",
       "    </tr>\n",
       "    <tr>\n",
       "      <th>295963</th>\n",
       "      <td>AK132572</td>\n",
       "      <td>K520</td>\n",
       "      <td>L200</td>\n",
       "      <td>R352</td>\n",
       "      <td>4215</td>\n",
       "      <td>S316</td>\n",
       "    </tr>\n",
       "    <tr>\n",
       "      <th>295964</th>\n",
       "      <td>AK132573</td>\n",
       "      <td>K400</td>\n",
       "      <td>J520</td>\n",
       "      <td>K400</td>\n",
       "      <td>4562</td>\n",
       "      <td>S316</td>\n",
       "    </tr>\n",
       "    <tr>\n",
       "      <th>295965</th>\n",
       "      <td>AK132574</td>\n",
       "      <td>H200</td>\n",
       "      <td>J200</td>\n",
       "      <td>M300</td>\n",
       "      <td>6563</td>\n",
       "      <td>A200</td>\n",
       "    </tr>\n",
       "    <tr>\n",
       "      <th>295966</th>\n",
       "      <td>AK132575</td>\n",
       "      <td>C615</td>\n",
       "      <td>M600</td>\n",
       "      <td>M626</td>\n",
       "      <td>2452</td>\n",
       "      <td>S140</td>\n",
       "    </tr>\n",
       "  </tbody>\n",
       "</table>\n",
       "<p>295967 rows × 6 columns</p>\n",
       "</div>"
      ],
      "text/plain": [
       "               0     1     2     3     4     5\n",
       "0       AA100000  B323  J520  A620  3523  G650\n",
       "1       AA100004  B620  M240  E421  2251  B645\n",
       "2       AA100006  B620  D520  W460  3345  H616\n",
       "3       AA100007  K260  K600  L500  1225  G650\n",
       "4       AA100008  K536  J600  F652  4235  B645\n",
       "...          ...   ...   ...   ...   ...   ...\n",
       "295962  AK132571  B260  C530  A500  7214  O252\n",
       "295963  AK132572  K520  L200  R352  4215  S316\n",
       "295964  AK132573  K400  J520  K400  4562  S316\n",
       "295965  AK132574  H200  J200  M300  6563  A200\n",
       "295966  AK132575  C615  M600  M626  2452  S140\n",
       "\n",
       "[295967 rows x 6 columns]"
      ]
     },
     "execution_count": 17,
     "metadata": {},
     "output_type": "execute_result"
    }
   ],
   "source": [
    "df1.merge(df2, how=\"outer\").merge(df3, how=\"outer\").drop_duplicates().reset_index(drop=True)"
   ]
  },
  {
   "cell_type": "code",
   "execution_count": 16,
   "id": "a64f105c-befd-4e85-b927-48ac5b5d74bb",
   "metadata": {},
   "outputs": [],
   "source": [
    "matchedData = pd.concat([df2, df3, df4, df5]).drop_duplicates().reset_index(drop=True)"
   ]
  },
  {
   "cell_type": "code",
   "execution_count": 18,
   "id": "5fd728ef-301d-4090-a936-07066605afc5",
   "metadata": {},
   "outputs": [
    {
     "data": {
      "text/plain": [
       "(6833, 18, 18167, 0.997372646329003, 0.27332)"
      ]
     },
     "execution_count": 18,
     "metadata": {},
     "output_type": "execute_result"
    }
   ],
   "source": [
    "result = df1.merge(matchedData, on=[1,2,3,4,5], how='inner')\n",
    "gt = np.intersect1d(df1[0], matchedData[0]).size\n",
    "\n",
    "tp = (result['0_x'] == result['0_y']).sum()\n",
    "fn = gt - tp\n",
    "fp = (result['0_x'] != result['0_y']).sum()\n",
    "\n",
    "tp, fp, fn, tp/(tp+fp), tp / (tp + fn)"
   ]
  },
  {
   "cell_type": "code",
   "execution_count": 15,
   "id": "eca7169b-d6cd-4c51-a0b3-74ebd9bf0f1d",
   "metadata": {},
   "outputs": [
    {
     "data": {
      "text/html": [
       "<div>\n",
       "<style scoped>\n",
       "    .dataframe tbody tr th:only-of-type {\n",
       "        vertical-align: middle;\n",
       "    }\n",
       "\n",
       "    .dataframe tbody tr th {\n",
       "        vertical-align: top;\n",
       "    }\n",
       "\n",
       "    .dataframe thead th {\n",
       "        text-align: right;\n",
       "    }\n",
       "</style>\n",
       "<table border=\"1\" class=\"dataframe\">\n",
       "  <thead>\n",
       "    <tr style=\"text-align: right;\">\n",
       "      <th></th>\n",
       "      <th>0</th>\n",
       "      <th>1</th>\n",
       "      <th>2</th>\n",
       "      <th>3</th>\n",
       "      <th>4</th>\n",
       "      <th>5</th>\n",
       "    </tr>\n",
       "  </thead>\n",
       "  <tbody>\n",
       "    <tr>\n",
       "      <th>0</th>\n",
       "      <td>AA100000</td>\n",
       "      <td>B323</td>\n",
       "      <td>J520</td>\n",
       "      <td>A620</td>\n",
       "      <td>3523</td>\n",
       "      <td>G650</td>\n",
       "    </tr>\n",
       "    <tr>\n",
       "      <th>1</th>\n",
       "      <td>AA100004</td>\n",
       "      <td>B620</td>\n",
       "      <td>M240</td>\n",
       "      <td>E421</td>\n",
       "      <td>2251</td>\n",
       "      <td>B645</td>\n",
       "    </tr>\n",
       "    <tr>\n",
       "      <th>2</th>\n",
       "      <td>AA100006</td>\n",
       "      <td>B620</td>\n",
       "      <td>D520</td>\n",
       "      <td>W460</td>\n",
       "      <td>3345</td>\n",
       "      <td>H616</td>\n",
       "    </tr>\n",
       "    <tr>\n",
       "      <th>3</th>\n",
       "      <td>AA100007</td>\n",
       "      <td>K260</td>\n",
       "      <td>K600</td>\n",
       "      <td>L500</td>\n",
       "      <td>1225</td>\n",
       "      <td>G650</td>\n",
       "    </tr>\n",
       "    <tr>\n",
       "      <th>4</th>\n",
       "      <td>AA100008</td>\n",
       "      <td>K536</td>\n",
       "      <td>J600</td>\n",
       "      <td>F652</td>\n",
       "      <td>4235</td>\n",
       "      <td>B645</td>\n",
       "    </tr>\n",
       "    <tr>\n",
       "      <th>...</th>\n",
       "      <td>...</td>\n",
       "      <td>...</td>\n",
       "      <td>...</td>\n",
       "      <td>...</td>\n",
       "      <td>...</td>\n",
       "      <td>...</td>\n",
       "    </tr>\n",
       "    <tr>\n",
       "      <th>99995</th>\n",
       "      <td>AB16955</td>\n",
       "      <td>W231</td>\n",
       "      <td>D242</td>\n",
       "      <td>R410</td>\n",
       "      <td>5325</td>\n",
       "      <td>T462</td>\n",
       "    </tr>\n",
       "    <tr>\n",
       "      <th>99996</th>\n",
       "      <td>AB16957</td>\n",
       "      <td>R163</td>\n",
       "      <td>C642</td>\n",
       "      <td>A636</td>\n",
       "      <td>1152</td>\n",
       "      <td>T462</td>\n",
       "    </tr>\n",
       "    <tr>\n",
       "      <th>99997</th>\n",
       "      <td>AB16959</td>\n",
       "      <td>B550</td>\n",
       "      <td>C645</td>\n",
       "      <td>D150</td>\n",
       "      <td>1155</td>\n",
       "      <td>T462</td>\n",
       "    </tr>\n",
       "    <tr>\n",
       "      <th>99998</th>\n",
       "      <td>AB16960</td>\n",
       "      <td>B530</td>\n",
       "      <td>L253</td>\n",
       "      <td>Y130</td>\n",
       "      <td>3246</td>\n",
       "      <td>T462</td>\n",
       "    </tr>\n",
       "    <tr>\n",
       "      <th>99999</th>\n",
       "      <td>AB16962</td>\n",
       "      <td>M421</td>\n",
       "      <td>K650</td>\n",
       "      <td>J525</td>\n",
       "      <td>7142</td>\n",
       "      <td>H353</td>\n",
       "    </tr>\n",
       "  </tbody>\n",
       "</table>\n",
       "<p>100000 rows × 6 columns</p>\n",
       "</div>"
      ],
      "text/plain": [
       "              0     1     2     3     4     5\n",
       "0      AA100000  B323  J520  A620  3523  G650\n",
       "1      AA100004  B620  M240  E421  2251  B645\n",
       "2      AA100006  B620  D520  W460  3345  H616\n",
       "3      AA100007  K260  K600  L500  1225  G650\n",
       "4      AA100008  K536  J600  F652  4235  B645\n",
       "...         ...   ...   ...   ...   ...   ...\n",
       "99995   AB16955  W231  D242  R410  5325  T462\n",
       "99996   AB16957  R163  C642  A636  1152  T462\n",
       "99997   AB16959  B550  C645  D150  1155  T462\n",
       "99998   AB16960  B530  L253  Y130  3246  T462\n",
       "99999   AB16962  M421  K650  J525  7142  H353\n",
       "\n",
       "[100000 rows x 6 columns]"
      ]
     },
     "execution_count": 15,
     "metadata": {},
     "output_type": "execute_result"
    }
   ],
   "source": [
    "df1"
   ]
  },
  {
   "cell_type": "code",
   "execution_count": 58,
   "id": "f0a588af-ef0d-44fe-9dbb-f1129cf0b000",
   "metadata": {},
   "outputs": [
    {
     "data": {
      "text/plain": [
       "25000"
      ]
     },
     "execution_count": 58,
     "metadata": {},
     "output_type": "execute_result"
    }
   ],
   "source": [
    "len(set(df1[0]) & set(df2[0]))"
   ]
  },
  {
   "cell_type": "code",
   "execution_count": 42,
   "id": "2226058e-17f9-46e2-a305-95248b0c5d8e",
   "metadata": {},
   "outputs": [],
   "source": [
    "groundTruth = set(matched['0_x']) & set(matched['0_y'])\n"
   ]
  },
  {
   "cell_type": "code",
   "execution_count": 44,
   "id": "47ebe89e-9a15-4a5e-bba4-beaa07a761f4",
   "metadata": {},
   "outputs": [
    {
     "data": {
      "text/plain": [
       "3062"
      ]
     },
     "execution_count": 44,
     "metadata": {},
     "output_type": "execute_result"
    }
   ],
   "source": [
    "len(groundTruth)"
   ]
  },
  {
   "cell_type": "code",
   "execution_count": 20,
   "id": "a9cfbc57-2dd1-478b-8ec9-e67844792f5b",
   "metadata": {},
   "outputs": [
    {
     "data": {
      "text/plain": [
       "[(0, 1, 2, 3), (0, 1, 2, 4), (0, 1, 3, 4), (0, 2, 3, 4), (1, 2, 3, 4)]"
      ]
     },
     "execution_count": 20,
     "metadata": {},
     "output_type": "execute_result"
    }
   ],
   "source": [
    "combs"
   ]
  },
  {
   "cell_type": "code",
   "execution_count": 30,
   "id": "ac5885ff-1052-4cd8-be80-1633b0e1f399",
   "metadata": {},
   "outputs": [
    {
     "name": "stdout",
     "output_type": "stream",
     "text": [
      "Expected: {}\n",
      "Ground Truth Size: 22\n",
      "True Positives: 15\n",
      "False Positives: 0\n",
      "False Negatives: 7\n",
      "Precision: 1.0000\n",
      "Recall: 0.6818\n",
      "Elapsed Time: 0.05 seconds\n"
     ]
    }
   ],
   "source": [
    " PATH  =  \"data/\"\n",
    "\n",
    "df1 = pd.read_csv(os.path.join(PATH, 'df1.csv'), header=None)[[0,1,2,3,4,5]].sample(frac=0.001, random_state=50)\n",
    "df2 = pd.read_csv(os.path.join(PATH, 'df2.csv'), header=None)[[0,1,2,3,4,5]].sample(frac=0.001, random_state=50)\n",
    "\n",
    "# Run pipeline and see statistics\n",
    "pipeline = MyClass(df1.copy(), df2.copy(), matchColumn=0, on=[1,2,3,4,5], method=\"column\", threshold = 0.6) #  --> this means at least 3/5 of the fields must match \n",
    "pipeline.soundexDfs()\n",
    "\n",
    "evaluator = DatasetEvaluator(pipeline.df1.copy(), pipeline.df2.copy(), threshold=3, match_column=0)\n",
    "evaluator.evaluate()\n",
    "evaluator.printResults()"
   ]
  },
  {
   "cell_type": "code",
   "execution_count": 32,
   "id": "c0eed72c-01bf-4249-8aa6-5c4fe58ee5c5",
   "metadata": {},
   "outputs": [
    {
     "data": {
      "text/html": [
       "<div>\n",
       "<style scoped>\n",
       "    .dataframe tbody tr th:only-of-type {\n",
       "        vertical-align: middle;\n",
       "    }\n",
       "\n",
       "    .dataframe tbody tr th {\n",
       "        vertical-align: top;\n",
       "    }\n",
       "\n",
       "    .dataframe thead th {\n",
       "        text-align: right;\n",
       "    }\n",
       "</style>\n",
       "<table border=\"1\" class=\"dataframe\">\n",
       "  <thead>\n",
       "    <tr style=\"text-align: right;\">\n",
       "      <th></th>\n",
       "      <th>1</th>\n",
       "      <th>2</th>\n",
       "      <th>3</th>\n",
       "    </tr>\n",
       "  </thead>\n",
       "  <tbody>\n",
       "    <tr>\n",
       "      <th>35363</th>\n",
       "      <td>B621</td>\n",
       "      <td>G632</td>\n",
       "      <td>N400</td>\n",
       "    </tr>\n",
       "    <tr>\n",
       "      <th>43649</th>\n",
       "      <td>M525</td>\n",
       "      <td>R120</td>\n",
       "      <td>L500</td>\n",
       "    </tr>\n",
       "    <tr>\n",
       "      <th>60832</th>\n",
       "      <td>P620</td>\n",
       "      <td>R260</td>\n",
       "      <td>M350</td>\n",
       "    </tr>\n",
       "    <tr>\n",
       "      <th>37399</th>\n",
       "      <td>D351</td>\n",
       "      <td>E640</td>\n",
       "      <td>R263</td>\n",
       "    </tr>\n",
       "    <tr>\n",
       "      <th>61034</th>\n",
       "      <td>N524</td>\n",
       "      <td>N242</td>\n",
       "      <td>A535</td>\n",
       "    </tr>\n",
       "    <tr>\n",
       "      <th>...</th>\n",
       "      <td>...</td>\n",
       "      <td>...</td>\n",
       "      <td>...</td>\n",
       "    </tr>\n",
       "    <tr>\n",
       "      <th>72080</th>\n",
       "      <td>H625</td>\n",
       "      <td>M240</td>\n",
       "      <td>D214</td>\n",
       "    </tr>\n",
       "    <tr>\n",
       "      <th>23643</th>\n",
       "      <td>F622</td>\n",
       "      <td>L200</td>\n",
       "      <td>J530</td>\n",
       "    </tr>\n",
       "    <tr>\n",
       "      <th>17310</th>\n",
       "      <td>S252</td>\n",
       "      <td>R100</td>\n",
       "      <td>D632</td>\n",
       "    </tr>\n",
       "    <tr>\n",
       "      <th>16069</th>\n",
       "      <td>O416</td>\n",
       "      <td>T620</td>\n",
       "      <td>D500</td>\n",
       "    </tr>\n",
       "    <tr>\n",
       "      <th>85018</th>\n",
       "      <td>K516</td>\n",
       "      <td>P620</td>\n",
       "      <td>E163</td>\n",
       "    </tr>\n",
       "  </tbody>\n",
       "</table>\n",
       "<p>100 rows × 3 columns</p>\n",
       "</div>"
      ],
      "text/plain": [
       "          1     2     3\n",
       "35363  B621  G632  N400\n",
       "43649  M525  R120  L500\n",
       "60832  P620  R260  M350\n",
       "37399  D351  E640  R263\n",
       "61034  N524  N242  A535\n",
       "...     ...   ...   ...\n",
       "72080  H625  M240  D214\n",
       "23643  F622  L200  J530\n",
       "17310  S252  R100  D632\n",
       "16069  O416  T620  D500\n",
       "85018  K516  P620  E163\n",
       "\n",
       "[100 rows x 3 columns]"
      ]
     },
     "execution_count": 32,
     "metadata": {},
     "output_type": "execute_result"
    }
   ],
   "source": [
    "pipeline.df1[[1,2,3]]"
   ]
  },
  {
   "cell_type": "code",
   "execution_count": null,
   "id": "438fd6ea-7d83-4bbe-bf9d-c7bc77299438",
   "metadata": {},
   "outputs": [],
   "source": []
  }
 ],
 "metadata": {
  "kernelspec": {
   "display_name": "Python 3 (ipykernel)",
   "language": "python",
   "name": "python3"
  },
  "language_info": {
   "codemirror_mode": {
    "name": "ipython",
    "version": 3
   },
   "file_extension": ".py",
   "mimetype": "text/x-python",
   "name": "python",
   "nbconvert_exporter": "python",
   "pygments_lexer": "ipython3",
   "version": "3.11.6"
  }
 },
 "nbformat": 4,
 "nbformat_minor": 5
}
