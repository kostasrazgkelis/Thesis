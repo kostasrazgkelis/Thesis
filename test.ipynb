{
 "cells": [
  {
   "cell_type": "code",
   "execution_count": 1,
   "id": "54eabc84-d793-4183-920d-ac4f20ab2902",
   "metadata": {},
   "outputs": [
    {
     "name": "stdout",
     "output_type": "stream",
     "text": [
      "Requirement already satisfied: jellyfish in /opt/conda/lib/python3.11/site-packages (1.2.0)\n",
      "Requirement already satisfied: faker in /opt/conda/lib/python3.11/site-packages (37.1.0)\n",
      "Requirement already satisfied: tzdata in /opt/conda/lib/python3.11/site-packages (from faker) (2023.3)\n"
     ]
    }
   ],
   "source": [
    "!pip install jellyfish\n",
    "!pip install faker"
   ]
  },
  {
   "cell_type": "code",
   "execution_count": 2,
   "id": "c7fa1b45-7b04-4cc2-a017-5cfbf9ffec54",
   "metadata": {},
   "outputs": [],
   "source": [
    "import pyspark\n",
    "import jellyfish\n",
    "import pandas as pd\n",
    "import numpy as np\n",
    "from typing import List\n",
    "import os\n",
    "import math\n",
    "from itertools import combinations, product\n",
    "import time\n",
    "from concurrent.futures import ProcessPoolExecutor\n",
    "from collections import defaultdict\n",
    "from packages.generateDataSets import SyntheticMatcherDataset\n",
    "from packages.calculateStatistics import DatasetEvaluator"
   ]
  },
  {
   "cell_type": "code",
   "execution_count": null,
   "id": "542d83a7-fcda-424e-92c1-f666c1be7136",
   "metadata": {},
   "outputs": [],
   "source": [
    "dataset = SyntheticMatcherDataset(size=2500, true_positive_ratio=0.70)\n",
    "df1, df2 = dataset.df1, dataset.df2\n",
    "expected = dataset.expected\n",
    "\n",
    "evaluator = DatasetEvaluator(df1, df2, expected, threshold=3, match_column=\"id\")\n",
    "evaluator.evaluate()\n",
    "evaluator.printResults()"
   ]
  },
  {
   "cell_type": "code",
   "execution_count": null,
   "id": "937c68bc-bef6-402f-8add-6fbeddfb9a87",
   "metadata": {},
   "outputs": [],
   "source": [
    "\n",
    "# Data for df1\n",
    "data1 = [\n",
    "    ['ID00005', 'N039', 'E298', 'Q412', 'V409', 'R232'], #TP1\n",
    "    ['ID00009', 'R822', 'W179', 'H017', 'P323', 'F298'], #TP2\n",
    "    ['ID00007', 'R449', 'X716', 'M948', 'G667', 'S702'], #TP3\n",
    "    ['ID00004', 'Q071', 'E396', 'N843', 'I458', 'S719'], #TP4\n",
    "    ['ID10004', 'Q072', 'E496', 'N853', 'I623', 'S569'], #FN1\n",
    "    ['NEW72378', 'J547', 'B222', 'G492', 'R551', 'S490'], #FP1\n",
    "    ['ID00008', 'N322', 'K685', 'T442', 'C825', 'W967'], #FP2\n",
    "    ['ID00000', 'W815', 'L281', 'R155', 'F768', 'B914'],\n",
    "    ['ID00001', 'C172', 'B326', 'X400', 'M508', 'O776'],\n",
    "    ['ID00002', 'V683', 'C265', 'J127', 'D589', 'F482'],\n",
    "    ['ID00003', 'E851', 'P721', 'F745', 'D863', 'K229'],\n",
    "    ['ID00016', 'T873', 'D670', 'U046', 'Z181', 'X621'],\n",
    "    ['ID00017', 'F327', 'G856', 'E567', 'O929', 'Q721'],\n",
    "    ['ID00010', 'O283', 'T723', 'Z034', 'V319', 'X338'],\n",
    "]\n",
    "\n",
    "# Data for df2\n",
    "data2 = [\n",
    "    ['ID00005', 'R746', 'E298', 'Q412', 'L291', 'R232'], #TP1\n",
    "    ['ID00009', 'R822', 'W179', 'H017', 'P323', 'F298'], #TP2\n",
    "    ['ID00007', 'Z011', 'X716', 'M948', 'W967', 'S702'], #TP3\n",
    "    ['ID00004', 'N002', 'E396', 'N843', 'V935', 'S719'], #TP4\n",
    "    ['ID10004', 'Q542', 'E423', 'N553', 'I453', 'S459'], #FN1\n",
    "    ['NEW80187', 'J547', 'B222', 'G492', 'W673', 'S490'], #FP1\n",
    "    ['NEW30110', 'N322', 'K685', 'T432', 'C225', 'W967'], #FP2\n",
    "    ['NEW72832', 'F875', 'Q768', 'H822', 'Z154', 'X678'], \n",
    "    ['NEW30110', 'R560', 'C434', 'M687', 'Q689', 'Q863'],\n",
    "    ['NEW81243', 'R762', 'N687', 'A109', 'K476', 'R637'],\n",
    "    ['NEW52689', 'A089', 'V733', 'W158', 'A640', 'H331'],\n",
    "    ['NEW67368', 'Z079', 'J617', 'G878', 'W111', 'Q500'],\n",
    "    ['NEW72348', 'J547', 'B222', 'G492', 'R551', 'S490'],\n",
    "    ['NEW34469', 'Y990', 'H898', 'W673', 'L967', 'M829'],\n",
    "]\n",
    "\n",
    "# Create DataFrames\n",
    "columns = ['id', 'col1', 'col2', 'col3', 'col4', 'col5']\n",
    "df1 = pd.DataFrame(data1, columns=columns)\n",
    "df2 = pd.DataFrame(data2, columns=columns)\n",
    "\n",
    "# Show\n",
    "print(df1)\n",
    "print(df2)"
   ]
  },
  {
   "cell_type": "code",
   "execution_count": 9,
   "id": "068e830a-3a82-4543-95ed-919ca349b5f5",
   "metadata": {},
   "outputs": [
    {
     "name": "stdout",
     "output_type": "stream",
     "text": [
      "Expected: {'gt': 5, 'tp': 3, 'fp': 2, 'fn': 2}\n",
      "Ground Truth Size: 3\n",
      "True Positives: 3\n",
      "False Positives: 2\n",
      "False Negatives: 0\n",
      "Precision: 0.6000\n",
      "Recall: 1.0000\n",
      "Elapsed Time: 0.01 seconds\n"
     ]
    }
   ],
   "source": [
    "dataset = SyntheticMatcherDataset(size=20, true_positive_ratio=0.70)\n",
    "df1, df2 = dataset.df1, dataset.df2\n",
    "expected = dataset.expected\n",
    "\n",
    "evaluator = DatasetEvaluator(df1, df2, expected, threshold=3)\n",
    "evaluator.evaluate()\n",
    "evaluator.printResults()"
   ]
  },
  {
   "cell_type": "code",
   "execution_count": 8,
   "id": "ce8f0b9a-2b77-4f2e-b1be-e85695360596",
   "metadata": {},
   "outputs": [
    {
     "data": {
      "text/plain": [
       "(          0     1     2     3     4     5\n",
       " 0   ID00000  H057  O528  S989  P371  M235\n",
       " 1   ID00001  P533  O138  L763  I140  W743\n",
       " 2   ID00002  C093  J326  F722  X963  A862\n",
       " 3   ID00003  O524  Z363  R491  E934  P710\n",
       " 4   ID00004  B954  Z304  Q352  J046  D670\n",
       " 5   ID00005  V030  A960  R416  P067  F628\n",
       " 6   ID00006  Y329  L186  Y513  J243  Y319\n",
       " 7   ID00007  U184  X267  D366  V941  D990\n",
       " 8   ID00008  O257  T263  P446  Y511  X354\n",
       " 9   ID00009  T311  K188  T131  L387  Y580\n",
       " 10  ID00010  F948  C769  N747  D475  H421\n",
       " 11  ID00011  P442  H406  L610  V542  O809\n",
       " 12  ID00012  E234  K245  V663  J979  O744\n",
       " 13  ID00013  H400  M273  I938  P226  K032\n",
       " 14  ID00014  W445  S097  O298  K351  Z131\n",
       " 15  ID00015  O069  X547  M369  A533  N813\n",
       " 16  ID00016  S004  L227  N811  R618  N403\n",
       " 17  ID00017  A283  H501  N315  K167  B217\n",
       " 18  ID00018  X057  K592  N553  Z796  W436\n",
       " 19  ID00019  D263  K011  M491  L281  U462,\n",
       "             0     1     2     3     4     5\n",
       " 0     ID00008  O257  T263  P446  B409  X354\n",
       " 1     ID00013  H400  M273  I938  P226  K032\n",
       " 2     ID00000  H057  O528  S989  P371  M235\n",
       " 3   NEW993831  E234  K245  D202  J979  O744\n",
       " 4   NEW717098  O524  O614  R491  E934  H034\n",
       " 5        C996  N826  Z304  Q352  C980  A477\n",
       " 6     ID00015  Y308  Q366  M369  A533  V247\n",
       " 7    NEW72305  V295  S522  Y326  K310  U400\n",
       " 8    NEW20958  M918  Q304  T155  L133  O722\n",
       " 9    NEW52086  Z358  W337  H993  A805  R611\n",
       " 10   NEW36539  A295  Z862  E467  B999  X990\n",
       " 11   NEW64839  D355  O367  I178  U499  E601\n",
       " 12   NEW14016  Y646  D716  E397  H709  I205\n",
       " 13   NEW60361  K103  D392  L212  L261  N071\n",
       " 14   NEW34434  F531  U730  U872  D255  A934\n",
       " 15   NEW70327  U886  A401  O891  B136  W098\n",
       " 16   NEW20550  Q679  J433  G023  P846  X514\n",
       " 17   NEW94545  G790  M466  J513  K361  Y863\n",
       " 18   NEW99728  L436  O424  L767  S907  R885\n",
       " 19   NEW47978  N740  X687  P799  S806  N974)"
      ]
     },
     "execution_count": 8,
     "metadata": {},
     "output_type": "execute_result"
    }
   ],
   "source": [
    "df1, df2"
   ]
  },
  {
   "cell_type": "code",
   "execution_count": null,
   "id": "d6f50b75-71d4-4d0b-ad56-936d7e1e988d",
   "metadata": {},
   "outputs": [],
   "source": []
  }
 ],
 "metadata": {
  "kernelspec": {
   "display_name": "Python 3 (ipykernel)",
   "language": "python",
   "name": "python3"
  },
  "language_info": {
   "codemirror_mode": {
    "name": "ipython",
    "version": 3
   },
   "file_extension": ".py",
   "mimetype": "text/x-python",
   "name": "python",
   "nbconvert_exporter": "python",
   "pygments_lexer": "ipython3",
   "version": "3.11.6"
  }
 },
 "nbformat": 4,
 "nbformat_minor": 5
}
