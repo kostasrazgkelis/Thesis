{
 "cells": [
  {
   "cell_type": "code",
   "execution_count": 1,
   "id": "54eabc84-d793-4183-920d-ac4f20ab2902",
   "metadata": {},
   "outputs": [
    {
     "name": "stdout",
     "output_type": "stream",
     "text": [
      "Requirement already satisfied: jellyfish in /opt/conda/lib/python3.11/site-packages (1.2.0)\n",
      "Requirement already satisfied: faker in /opt/conda/lib/python3.11/site-packages (37.1.0)\n",
      "Requirement already satisfied: tzdata in /opt/conda/lib/python3.11/site-packages (from faker) (2023.3)\n"
     ]
    }
   ],
   "source": [
    "!pip install jellyfish\n",
    "!pip install faker"
   ]
  },
  {
   "cell_type": "code",
   "execution_count": 1,
   "id": "c7fa1b45-7b04-4cc2-a017-5cfbf9ffec54",
   "metadata": {},
   "outputs": [],
   "source": [
    "import pyspark\n",
    "import jellyfish\n",
    "import pandas as pd\n",
    "import numpy as np\n",
    "from typing import List\n",
    "import os\n",
    "import math\n",
    "import time\n",
    "from collections import defaultdict\n",
    "from packages.generateDataSets import SyntheticMatcherDataset\n",
    "from packages.calculateStatistics import DatasetEvaluator\n",
    "from itertools import combinations"
   ]
  },
  {
   "cell_type": "code",
   "execution_count": 2,
   "id": "937c68bc-bef6-402f-8add-6fbeddfb9a87",
   "metadata": {
    "editable": true,
    "slideshow": {
     "slide_type": ""
    },
    "tags": []
   },
   "outputs": [
    {
     "name": "stdout",
     "output_type": "stream",
     "text": [
      "preproccess took 0.0026 seconds\n",
      " ID00005\n",
      " ID00009\n",
      " ID00007\n",
      " ID00004\n",
      " ID10004\n",
      " NEW80187\n",
      " NEW30110\n",
      " NEW72832\n",
      " NEW30110\n",
      " NEW81243\n",
      " NEW52689\n",
      " NEW67368\n",
      " NEW72348\n",
      " NEW34469\n",
      "evaluate took 0.0003 seconds\n",
      "calculateStatistics took 0.0000 seconds\n",
      "Expected: {'gt': 5, 'tp': 4, 'fp': 2, 'fn': 1}\n",
      "Ground Truth Size: 5\n",
      "True Positives: 1\n",
      "False Positives: 0\n",
      "False Negatives: 4\n",
      "Precision: 1.0000\n",
      "Recall: 0.2000\n"
     ]
    }
   ],
   "source": [
    "\n",
    "# Data for df1\n",
    "data1 = [\n",
    "    ['ID00005', 'N039', 'E298', 'Q412', 'V409', 'R232'], #TP1\n",
    "    ['ID00009', 'R822', 'W179', 'H017', 'P323', 'F298'], #TP2\n",
    "    ['ID00007', 'R449', 'X716', 'M948', 'G667', 'S702'], #TP3\n",
    "    ['ID00004', 'N002', 'E396', 'N843', 'I458', 'S719'], #TP4\n",
    "    ['ID10004', 'N002', 'E396', 'N853', 'I623', 'S569'], #FN1\n",
    "    ['NEW72378', 'J547', 'B222', 'G492', 'R551', 'S490'], #FP1\n",
    "    ['ID00008', 'N322', 'K685', 'T442', 'C825', 'W967'], #FP2\n",
    "    ['ID00000', 'W815', 'L281', 'R155', 'F768', 'B914'],\n",
    "    ['ID00001', 'C172', 'B326', 'X400', 'M508', 'O776'],\n",
    "    ['ID00002', 'V683', 'C265', 'J127', 'D589', 'F482'],\n",
    "    ['ID00003', 'E851', 'P721', 'F745', 'D863', 'K229'],\n",
    "    ['ID00016', 'T873', 'D670', 'U046', 'Z181', 'X621'],\n",
    "    ['ID00017', 'F327', 'G856', 'E567', 'O929', 'Q721'],\n",
    "    ['ID00010', 'O283', 'T723', 'Z034', 'V319', 'X338'],\n",
    "]\n",
    "\n",
    "# Data for df2\n",
    "data2 = [\n",
    "    ['ID00005', 'R746', 'E298', 'Q412', 'L291', 'R232'], #TP1\n",
    "    ['ID00009', 'R822', 'W179', 'H017', 'P323', 'F298'], #TP2\n",
    "    ['ID00007', 'Z011', 'X716', 'M948', 'W967', 'S702'], #TP3\n",
    "    ['ID00004', 'N002', 'E396', 'N843', 'V935', 'S719'], #TP4\n",
    "    ['ID10004', 'N002', 'E396', 'N553', 'I453', 'S459'], #FN1\n",
    "    ['NEW80187', 'J547', 'B222', 'G492', 'W673', 'S490'], #FP1\n",
    "    ['NEW30110', 'N322', 'K685', 'T432', 'C225', 'W967'], #FP2\n",
    "    ['NEW72832', 'F875', 'Q768', 'H822', 'Z154', 'X678'], \n",
    "    ['NEW30110', 'R560', 'C434', 'M687', 'Q689', 'Q863'],\n",
    "    ['NEW81243', 'R762', 'N687', 'A109', 'K476', 'R637'],\n",
    "    ['NEW52689', 'A089', 'V733', 'W158', 'A640', 'H331'],\n",
    "    ['NEW67368', 'Z079', 'J617', 'G878', 'W111', 'Q500'],\n",
    "    ['NEW72348', 'J547', 'B222', 'G492', 'R551', 'S490'],\n",
    "    ['NEW34469', 'Y990', 'H898', 'W673', 'L967', 'M829'],\n",
    "]\n",
    "\n",
    "# Create DataFrames\n",
    "columns = ['id', 'col1', 'col2', 'col3', 'col4', 'col5']\n",
    "df1 = pd.DataFrame(data1, columns=columns)\n",
    "df2 = pd.DataFrame(data2, columns=columns)\n",
    "expected = {'gt': 5, 'tp': 4, 'fp': 2, 'fn': 1}\n",
    "\n",
    "evaluator = DatasetEvaluator(df1, df2, expected, threshold=3, match_column='id')\n",
    "evaluator.preproccess()\n",
    "evaluator.evaluate()\n",
    "evaluator.calculateStatistics()\n",
    "evaluator.printResults()"
   ]
  },
  {
   "cell_type": "code",
   "execution_count": 6,
   "id": "69a9f576-1350-4b75-a8a7-d0090ece3056",
   "metadata": {},
   "outputs": [
    {
     "data": {
      "text/plain": [
       "defaultdict(list,\n",
       "            {'': ['ID00005',\n",
       "              'ID00009',\n",
       "              'ID00007',\n",
       "              'ID00004',\n",
       "              'ID10004',\n",
       "              'NEW80187',\n",
       "              'NEW30110',\n",
       "              'NEW72832',\n",
       "              'NEW30110',\n",
       "              'NEW81243',\n",
       "              'NEW52689',\n",
       "              'NEW67368',\n",
       "              'NEW72348',\n",
       "              'NEW34469']})"
      ]
     },
     "execution_count": 6,
     "metadata": {},
     "output_type": "execute_result"
    }
   ],
   "source": [
    "evaluator.hashed_bucket"
   ]
  },
  {
   "cell_type": "code",
   "execution_count": 11,
   "id": "16be8e8c-f259-4f3f-a3f3-a66b8be074af",
   "metadata": {},
   "outputs": [
    {
     "name": "stdout",
     "output_type": "stream",
     "text": [
      "Pipeline 1 avg time: 578.75 sec\n",
      "Pipeline 2 avg time: 114.03 sec\n",
      "-80.30% reduce time ---> improvement\n"
     ]
    }
   ],
   "source": [
    "time1 =  578.75\n",
    "time2 = 114.03\n",
    "\n",
    "print(f\"Pipeline 1 avg time: {time1} sec\")\n",
    "print(f\"Pipeline 2 avg time: { time2} sec\")\n",
    "\n",
    "if time1 < time2:\n",
    "    print(f\"{(1 - time1/time2)*100:.2f}% increase time ---> not improvement\")\n",
    "else:\n",
    "    print(f\"-{(1 - time2/time1)*100:.2f}% reduce time ---> improvement\")"
   ]
  },
  {
   "cell_type": "code",
   "execution_count": null,
   "id": "fe0d584d-8e52-4c56-ae07-eb0be03cd46b",
   "metadata": {
    "scrolled": true
   },
   "outputs": [],
   "source": [
    "1250 Elapsed Time: 1.72 seconds\n",
    "2500 Elapsed Time: 7.02 seconds \n",
    "5000 Elapsed Time: 28.09 seconds\n",
    "10000 Elapsed Time: 114.03 seconds\n",
    "\n",
    "\n",
    "1250 Elapsed Time: 6.29 seconds\n",
    "2500 Elapsed Time: 26 seconds \n",
    "5000 Elapsed Time: 108.56 seconds\n",
    "10000 Elapsed Time: 578.75 seconds"
   ]
  },
  {
   "cell_type": "code",
   "execution_count": 2,
   "id": "542d83a7-fcda-424e-92c1-f666c1be7136",
   "metadata": {
    "editable": true,
    "scrolled": true,
    "slideshow": {
     "slide_type": ""
    },
    "tags": []
   },
   "outputs": [
    {
     "name": "stdout",
     "output_type": "stream",
     "text": [
      "preproccess took 0.0433 seconds\n",
      "evaluate took 0.0361 seconds\n",
      "calculateStatistics took 0.0001 seconds\n",
      "Expected: {'gt': 25, 'tp': 18, 'fp': 13, 'fn': 7}\n",
      "Ground Truth Size: 25\n",
      "True Positives: 4\n",
      "False Positives: 7\n",
      "False Negatives: 21\n",
      "Precision: 0.3636\n",
      "Recall: 0.1600\n"
     ]
    }
   ],
   "source": [
    "dataset = SyntheticMatcherDataset(size=100 ,  ground_truth_ratio=0.25, datasets_ratio = (1, 2), true_positive_ratio=0.75, threshold=3)\n",
    "df1, df2 = dataset.df1, dataset.df2\n",
    "expected = dataset.expected\n",
    "\n",
    "evaluator = DatasetEvaluator(df1, df2, expected, threshold=3, trim=1, match_column=\"id\")\n",
    "evaluator.preproccess()\n",
    "evaluator.evaluate()\n",
    "evaluator.calculateStatistics()\n",
    "evaluator.printResults()"
   ]
  },
  {
   "cell_type": "code",
   "execution_count": 7,
   "id": "b271f9d6-94e5-4dfc-bdf6-99d84f0203e7",
   "metadata": {
    "editable": true,
    "slideshow": {
     "slide_type": ""
    },
    "tags": []
   },
   "outputs": [
    {
     "data": {
      "text/plain": [
       "{'P56S21B71K97Q10': array(['P56', '21B', '1K9'], dtype='<U3'),\n",
       " 'T01B47V34T28G63': array(['T01', '47V', '4T2'], dtype='<U3'),\n",
       " 'V51S24M90P91M51': array(['V51', '24M', '0P9'], dtype='<U3'),\n",
       " 'J12H49P90D55E62': array(['J12', '49P', '0D5'], dtype='<U3'),\n",
       " 'Y06W79K39Y74R43': array(['Y06', '79K', '9Y7'], dtype='<U3'),\n",
       " 'D52L02N28R84X43': array(['D52', '02N', '8R8'], dtype='<U3'),\n",
       " 'T47V06F91O14H64': array(['T47', '06F', '1O1'], dtype='<U3'),\n",
       " 'L57M10W18K85H13': array(['L57', '10W', '8K8'], dtype='<U3'),\n",
       " 'Y93P98Z46J62V55': array(['Y93', '98Z', '6J6'], dtype='<U3'),\n",
       " 'V71W78A02L84I87': array(['V71', '78A', '2L8'], dtype='<U3'),\n",
       " 'M97H97U84L99K33': array(['M97', '97U', '4L9'], dtype='<U3'),\n",
       " 'P67A50P70L65K50': array(['P67', '50P', '0L6'], dtype='<U3'),\n",
       " 'Q21D85S70Y14U53': array(['Q21', '85S', '0Y1'], dtype='<U3'),\n",
       " 'K57Y41L11R97O02': array(['K57', '41L', '1R9'], dtype='<U3'),\n",
       " 'A89R91F76W35V22': array(['A89', '91F', '6W3'], dtype='<U3'),\n",
       " 'K27P57A54R42R48': array(['K27', '57A', '4R4'], dtype='<U3'),\n",
       " 'L39T88D46K29W73': array(['L39', '88D', '6K2'], dtype='<U3'),\n",
       " 'K94P82R02J33T73': array(['K94', '82R', '2J3'], dtype='<U3'),\n",
       " 'J73L60J26X56J45': array(['J73', '60J', '6X5'], dtype='<U3'),\n",
       " 'C62P66D41X98E00': array(['C62', '66D', '1X9'], dtype='<U3'),\n",
       " 'F98R66G96U36J75': array(['F98', '66G', '6U3'], dtype='<U3'),\n",
       " 'K89N52Z36E50V14': array(['K89', '52Z', '6E5'], dtype='<U3'),\n",
       " 'H50K46Y85H83S67': array(['H50', '46Y', '5H8'], dtype='<U3'),\n",
       " 'C51J98C73H15Q69': array(['C51', '98C', '3H1'], dtype='<U3'),\n",
       " 'S31G50M68A72L03': array(['S31', '50M', '8A7'], dtype='<U3'),\n",
       " 'L99F42Y52T26N23': array(['L99', '42Y', '2T2'], dtype='<U3'),\n",
       " 'N53F46I79G03G29': array(['N53', '46I', '9G0'], dtype='<U3'),\n",
       " 'A40I55E37T06Q43': array(['A40', '55E', '7T0'], dtype='<U3'),\n",
       " 'V67Y72O58A60E94': array(['V67', '72O', '8A6'], dtype='<U3'),\n",
       " 'U36H60R13V79F08': array(['U36', '60R', '3V7'], dtype='<U3'),\n",
       " 'U31X20J55A00N58': array(['U31', '20J', '5A0'], dtype='<U3'),\n",
       " 'P22M62X37U40Y16': array(['P22', '62X', '7U4'], dtype='<U3'),\n",
       " 'P82E58T16F24M52': array(['P82', '58T', '6F2'], dtype='<U3'),\n",
       " 'A96P65T48Y29E20': array(['A96', '65T', '8Y2'], dtype='<U3'),\n",
       " 'T91W72U10Y52A21': array(['T91', '72U', '0Y5'], dtype='<U3'),\n",
       " 'N52Z71L04E56Z30': array(['N52', '71L', '4E5'], dtype='<U3'),\n",
       " 'Y02Q46L05V99U14': array(['Y02', '46L', '5V9'], dtype='<U3'),\n",
       " 'R35N54U89N60E13': array(['R35', '54U', '9N6'], dtype='<U3'),\n",
       " 'P51M34H87O15N09': array(['P51', '34H', '7O1'], dtype='<U3'),\n",
       " 'T64Q09K01S69I92': array(['T64', '09K', '1S6'], dtype='<U3'),\n",
       " 'R70F54M88X80I25': array(['R70', '54M', '8X8'], dtype='<U3'),\n",
       " 'R13Y54E51I72Y94': array(['R13', '54E', '1I7'], dtype='<U3'),\n",
       " 'L57I23C83E10J24': array(['L57', '23C', '3E1'], dtype='<U3'),\n",
       " 'D10G76M22M24Y02': array(['D10', '76M', '2M2'], dtype='<U3'),\n",
       " 'N94B09N70U20D65': array(['N94', '09N', '0U2'], dtype='<U3'),\n",
       " 'Z48Z83F46W89S98': array(['Z48', '83F', '6W8'], dtype='<U3'),\n",
       " 'G82S97N32P71W98': array(['G82', '97N', '2P7'], dtype='<U3'),\n",
       " 'X00E33X44K93I86': array(['X00', '33X', '4K9'], dtype='<U3'),\n",
       " 'K74W50Y11R98S71': array(['K74', '50Y', '1R9'], dtype='<U3'),\n",
       " 'M96Q60V88F15Z39': array(['M96', '60V', '8F1'], dtype='<U3'),\n",
       " 'G47H12L98N89I91': array(['G47', '12L', '8N8'], dtype='<U3'),\n",
       " 'P42X14K82U30E98': array(['P42', '14K', '2U3'], dtype='<U3'),\n",
       " 'Z51Q54U51S90Z59': array(['Z51', '54U', '1S9'], dtype='<U3'),\n",
       " 'T89X65T17Q56Q68': array(['T89', '65T', '7Q5'], dtype='<U3'),\n",
       " 'F21B90B02Q24Q14': array(['F21', '90B', '2Q2'], dtype='<U3'),\n",
       " 'U17P72S04P73F64': array(['U17', '72S', '4P7'], dtype='<U3'),\n",
       " 'D37J79B78C86D93': array(['D37', '79B', '8C8'], dtype='<U3'),\n",
       " 'V75Y51I71A21P95': array(['V75', '51I', '1A2'], dtype='<U3'),\n",
       " 'C77Y86C39O79J35': array(['C77', '86C', '9O7'], dtype='<U3'),\n",
       " 'N87G24X03A20Q48': array(['N87', '24X', '3A2'], dtype='<U3'),\n",
       " 'Z21Y69B51W54P20': array(['Z21', '69B', '1W5'], dtype='<U3'),\n",
       " 'T50Q79O03C52T00': array(['T50', '79O', '3C5'], dtype='<U3'),\n",
       " 'J62S71X58N45H78': array(['J62', '71X', '8N4'], dtype='<U3'),\n",
       " 'Y52R70S77A42O19': array(['Y52', '70S', '7A4'], dtype='<U3'),\n",
       " 'K12C31O76N98P89': array(['K12', '31O', '6N9'], dtype='<U3'),\n",
       " 'K29N88S13Y53O54': array(['K29', '88S', '3Y5'], dtype='<U3'),\n",
       " 'N22F88A62U14Y19': array(['N22', '88A', '2U1'], dtype='<U3'),\n",
       " 'P06Y12B54E44Q97': array(['P06', '12B', '4E4'], dtype='<U3'),\n",
       " 'U59F29L69G31Z96': array(['U59', '29L', '9G3'], dtype='<U3'),\n",
       " 'X29J34P31Z70F20': array(['X29', '34P', '1Z7'], dtype='<U3'),\n",
       " 'M71X27M35R10E24': array(['M71', '27M', '5R1'], dtype='<U3'),\n",
       " 'N62B75R17B02O32': array(['N62', '75R', '7B0'], dtype='<U3'),\n",
       " 'V69T84A93L76N21': array(['V69', '84A', '3L7'], dtype='<U3'),\n",
       " 'E71R02P35K84B03': array(['E71', '02P', '5K8'], dtype='<U3'),\n",
       " 'R58O25N02C58J58': array(['R58', '25N', '2C5'], dtype='<U3'),\n",
       " 'I69H33P07S19G04': array(['I69', '33P', '7S1'], dtype='<U3'),\n",
       " 'X73G91F00H24T88': array(['X73', '91F', '0H2'], dtype='<U3'),\n",
       " 'U54B47J73D01C92': array(['U54', '47J', '3D0'], dtype='<U3'),\n",
       " 'P84G21B53G95S12': array(['P84', '21B', '3G9'], dtype='<U3'),\n",
       " 'P12N12Q12P52Z09': array(['P12', '12Q', '2P5'], dtype='<U3'),\n",
       " 'M56Z21Z95W60O71': array(['M56', '21Z', '5W6'], dtype='<U3'),\n",
       " 'I82Q61A58Y53T78': array(['I82', '61A', '8Y5'], dtype='<U3'),\n",
       " 'U13V17D79W76D14': array(['U13', '17D', '9W7'], dtype='<U3'),\n",
       " 'Q36P37R12T03X76': array(['Q36', '37R', '2T0'], dtype='<U3'),\n",
       " 'D95Q74O61S25H51': array(['D95', '74O', '1S2'], dtype='<U3'),\n",
       " 'R34O86A32N76R88': array(['R34', '86A', '2N7'], dtype='<U3'),\n",
       " 'S16W46C32Y36C21': array(['S16', '46C', '2Y3'], dtype='<U3'),\n",
       " 'Y72K14O22C92X33': array(['Y72', '14O', '2C9'], dtype='<U3'),\n",
       " 'M53W47D38S04L41': array(['M53', '47D', '8S0'], dtype='<U3'),\n",
       " 'A46Q68T27J95K83': array(['A46', '68T', '7J9'], dtype='<U3'),\n",
       " 'C36Q15M16N27Y26': array(['C36', '15M', '6N2'], dtype='<U3'),\n",
       " 'E78K81G06K70X09': array(['E78', '81G', '6K7'], dtype='<U3'),\n",
       " 'U10K99X16P55B65': array(['U10', '99X', '6P5'], dtype='<U3'),\n",
       " 'L72E10V67M67L85': array(['L72', '10V', '7M6'], dtype='<U3'),\n",
       " 'H73I77X70N42M17': array(['H73', '77X', '0N4'], dtype='<U3'),\n",
       " 'U16E38A06N53L04': array(['U16', '38A', '6N5'], dtype='<U3'),\n",
       " 'X70U64Y24A05H16': array(['X70', '64Y', '4A0'], dtype='<U3'),\n",
       " 'B00I97A27X88D25': array(['B00', '97A', '7X8'], dtype='<U3'),\n",
       " 'V67O19L67H29J49': array(['V67', '19L', '7H2'], dtype='<U3'),\n",
       " 'E95L41C71G75H85': array(['E95', '41C', '1G7'], dtype='<U3'),\n",
       " 'S73Q92I86C24N51': array(['S73', '92I', '6C2'], dtype='<U3'),\n",
       " 'Y38K47M45Y78U35': array(['Y38', '47M', '5Y7'], dtype='<U3'),\n",
       " 'W94W72G74D32U12': array(['W94', '72G', '4D3'], dtype='<U3'),\n",
       " 'S10K00F50L92V16': array(['S10', '00F', '0L9'], dtype='<U3'),\n",
       " 'A19F38V95M48V73': array(['A19', '38V', '5M4'], dtype='<U3'),\n",
       " 'Q59U33M29N31Z35': array(['Q59', '33M', '9N3'], dtype='<U3'),\n",
       " 'H24L12J21V48O54': array(['H24', '12J', '1V4'], dtype='<U3'),\n",
       " 'L88O87M34A04W53': array(['L88', '87M', '4A0'], dtype='<U3'),\n",
       " 'X52M73F57U78G18': array(['X52', '73F', '7U7'], dtype='<U3'),\n",
       " 'U03N40U10R26L18': array(['U03', '40U', '0R2'], dtype='<U3'),\n",
       " 'R19L84O08E92U82': array(['R19', '84O', '8E9'], dtype='<U3'),\n",
       " 'R86K44V54D15G41': array(['R86', '44V', '4D1'], dtype='<U3'),\n",
       " 'M95N36N55S44D75': array(['M95', '36N', '5S4'], dtype='<U3'),\n",
       " 'V08M46W58S17D46': array(['V08', '46W', '8S1'], dtype='<U3'),\n",
       " 'H26N34U46X16N13': array(['H26', '34U', '6X1'], dtype='<U3'),\n",
       " 'J57B14P70W42Y10': array(['J57', '14P', '0W4'], dtype='<U3'),\n",
       " 'T79Q56H00Z36S56': array(['T79', '56H', '0Z3'], dtype='<U3'),\n",
       " 'W73J77N67C21Q85': array(['W73', '77N', '7C2'], dtype='<U3'),\n",
       " 'D69E28D38H76Z07': array(['D69', '28D', '8H7'], dtype='<U3'),\n",
       " 'R43K42D14L22T05': array(['R43', '42D', '4L2'], dtype='<U3'),\n",
       " 'R03J43N15R21J32': array(['R03', '43N', '5R2'], dtype='<U3'),\n",
       " 'K57L08X04T96S84': array(['K57', '08X', '4T9'], dtype='<U3'),\n",
       " 'U40X70U08O04G61': array(['U40', '70U', '8O0'], dtype='<U3'),\n",
       " 'C63B30E16B11H69': array(['C63', '30E', '6B1'], dtype='<U3'),\n",
       " 'H93V54W72O48G95': array(['H93', '54W', '2O4'], dtype='<U3'),\n",
       " 'L10A83I20K70W54': array(['L10', '83I', '0K7'], dtype='<U3'),\n",
       " 'F90G49T15W57I18': array(['F90', '49T', '5W5'], dtype='<U3'),\n",
       " 'L27B55C66Y91Q33': array(['L27', '55C', '6Y9'], dtype='<U3'),\n",
       " 'I14K70Y19Y91R35': array(['I14', '70Y', '9Y9'], dtype='<U3'),\n",
       " 'U72K69R48B42E27': array(['U72', '69R', '8B4'], dtype='<U3'),\n",
       " 'E83N40N86S94N03': array(['E83', '40N', '6S9'], dtype='<U3'),\n",
       " 'W80P96Q84G14J75': array(['W80', '96Q', '4G1'], dtype='<U3'),\n",
       " 'B72L57S72M75F37': array(['B72', '57S', '2M7'], dtype='<U3'),\n",
       " 'G15L41U33T87E47': array(['G15', '41U', '3T8'], dtype='<U3'),\n",
       " 'G19F67S07V50Y77': array(['G19', '67S', '7V5'], dtype='<U3'),\n",
       " 'S07I87B35O55Z57': array(['S07', '87B', '5O5'], dtype='<U3'),\n",
       " 'H13E35R53I47O44': array(['H13', '35R', '3I4'], dtype='<U3'),\n",
       " 'L62V07Z15G56O87': array(['L62', '07Z', '5G5'], dtype='<U3'),\n",
       " 'P55F74S93U09V00': array(['P55', '74S', '3U0'], dtype='<U3'),\n",
       " 'H57J28V44Q00Z97': array(['H57', '28V', '4Q0'], dtype='<U3'),\n",
       " 'Q40Q08B26I85B20': array(['Q40', '08B', '6I8'], dtype='<U3'),\n",
       " 'X18W11C20K13I44': array(['X18', '11C', '0K1'], dtype='<U3'),\n",
       " 'A82E35T41E64X24': array(['A82', '35T', '1E6'], dtype='<U3'),\n",
       " 'S89M18Y90V16A84': array(['S89', '18Y', '0V1'], dtype='<U3'),\n",
       " 'O00L16H50R76X17': array(['O00', '16H', '0R7'], dtype='<U3'),\n",
       " 'K05Q50Z74G54J19': array(['K05', '50Z', '4G5'], dtype='<U3'),\n",
       " 'O88D69Q68X30O62': array(['O88', '69Q', '8X3'], dtype='<U3'),\n",
       " 'U35F04V99G19P80': array(['U35', '04V', '9G1'], dtype='<U3'),\n",
       " 'A70I00V53M64C35': array(['A70', '00V', '3M6'], dtype='<U3'),\n",
       " 'O22S38U27O45O29': array(['O22', '38U', '7O4'], dtype='<U3'),\n",
       " 'D53J68H23T91Y03': array(['D53', '68H', '3T9'], dtype='<U3'),\n",
       " 'A81F53E76C20K91': array(['A81', '53E', '6C2'], dtype='<U3'),\n",
       " 'W65O31E92G08P74': array(['W65', '31E', '2G0'], dtype='<U3'),\n",
       " 'J63I70U84O14E53': array(['J63', '70U', '4O1'], dtype='<U3'),\n",
       " 'R89P21E41L85I82': array(['R89', '21E', '1L8'], dtype='<U3'),\n",
       " 'Z19E08I01K70M51': array(['Z19', '08I', '1K7'], dtype='<U3'),\n",
       " 'S67O54H39O53Z40': array(['S67', '54H', '9O5'], dtype='<U3'),\n",
       " 'X88R71P89W91Z22': array(['X88', '71P', '9W9'], dtype='<U3'),\n",
       " 'O56W85S45L79N59': array(['O56', '85S', '5L7'], dtype='<U3'),\n",
       " 'M14K84Y98P97Y68': array(['M14', '84Y', '8P9'], dtype='<U3'),\n",
       " 'U13Q66T65U19X47': array(['U13', '66T', '5U1'], dtype='<U3'),\n",
       " 'J81I96M26C83C44': array(['J81', '96M', '6C8'], dtype='<U3'),\n",
       " 'B25I92T07Z78F48': array(['B25', '92T', '7Z7'], dtype='<U3'),\n",
       " 'B92W52F37D13O92': array(['B92', '52F', '7D1'], dtype='<U3'),\n",
       " 'I13X78T03M17H52': array(['I13', '78T', '3M1'], dtype='<U3'),\n",
       " 'D51Y48X44A55B15': array(['D51', '48X', '4A5'], dtype='<U3'),\n",
       " 'G27W85Q40Z27O89': array(['G27', '85Q', '0Z2'], dtype='<U3'),\n",
       " 'T42C62R16W33G10': array(['T42', '62R', '6W3'], dtype='<U3'),\n",
       " 'W75O23H47K66Q98': array(['W75', '23H', '7K6'], dtype='<U3'),\n",
       " 'G50E70S11K42U54': array(['G50', '70S', '1K4'], dtype='<U3'),\n",
       " 'S94J27I23F70W19': array(['S94', '27I', '3F7'], dtype='<U3'),\n",
       " 'L09G06T30Z94Z46': array(['L09', '06T', '0Z9'], dtype='<U3'),\n",
       " 'L52P56Z08B14B41': array(['L52', '56Z', '8B1'], dtype='<U3'),\n",
       " 'S95O48M30O90G81': array(['S95', '48M', '0O9'], dtype='<U3'),\n",
       " 'L07Z04T37F26Q83': array(['L07', '04T', '7F2'], dtype='<U3'),\n",
       " 'H05D25U45Q97G06': array(['H05', '25U', '5Q9'], dtype='<U3'),\n",
       " 'M82N81V04F65L66': array(['M82', '81V', '4F6'], dtype='<U3'),\n",
       " 'T37E01M07Z44W69': array(['T37', '01M', '7Z4'], dtype='<U3'),\n",
       " 'U37E61O01M59F02': array(['U37', '61O', '1M5'], dtype='<U3'),\n",
       " 'E01A10I68E98F37': array(['E01', '10I', '8E9'], dtype='<U3'),\n",
       " 'J14O61O18W04L73': array(['J14', '61O', '8W0'], dtype='<U3'),\n",
       " 'U58Z13M56B41E32': array(['U58', '13M', '6B4'], dtype='<U3'),\n",
       " 'M48O35H43W00V51': array(['M48', '35H', '3W0'], dtype='<U3'),\n",
       " 'J29Y97S96J91X66': array(['J29', '97S', '6J9'], dtype='<U3'),\n",
       " 'Y25I87Q75H18V87': array(['Y25', '87Q', '5H1'], dtype='<U3'),\n",
       " 'M72W54Z29J95W43': array(['M72', '54Z', '9J9'], dtype='<U3'),\n",
       " 'A88J46E86F36Q98': array(['A88', '46E', '6F3'], dtype='<U3'),\n",
       " 'V15F47M24W70E19': array(['V15', '47M', '4W7'], dtype='<U3'),\n",
       " 'E65I41A98U52K72': array(['E65', '41A', '8U5'], dtype='<U3'),\n",
       " 'Y94B19Y03Q76H74': array(['Y94', '19Y', '3Q7'], dtype='<U3'),\n",
       " 'Z78X36M43S68D82': array(['Z78', '36M', '3S6'], dtype='<U3'),\n",
       " 'J94Q44Q20U91O15': array(['J94', '44Q', '0U9'], dtype='<U3'),\n",
       " 'T57V85P39B70K37': array(['T57', '85P', '9B7'], dtype='<U3'),\n",
       " 'N95F82L92S18J00': array(['N95', '82L', '2S1'], dtype='<U3'),\n",
       " 'V55E48U63K93G31': array(['V55', '48U', '3K9'], dtype='<U3'),\n",
       " 'N97Z40I23F31A27': array(['N97', '40I', '3F3'], dtype='<U3'),\n",
       " 'S17D07M28R68R97': array(['S17', '07M', '8R6'], dtype='<U3'),\n",
       " 'L98N34G46L17T46': array(['L98', '34G', '6L1'], dtype='<U3'),\n",
       " 'B66I96I13V81I19': array(['B66', '96I', '3V8'], dtype='<U3'),\n",
       " 'Z79Y69V70H65O17': array(['Z79', '69V', '0H6'], dtype='<U3')}"
      ]
     },
     "execution_count": 7,
     "metadata": {},
     "output_type": "execute_result"
    }
   ],
   "source": [
    "evaluator.chunked_df2"
   ]
  },
  {
   "cell_type": "code",
   "execution_count": null,
   "id": "f00c4230-b69b-4978-8174-b3ce849b7c67",
   "metadata": {
    "editable": true,
    "slideshow": {
     "slide_type": ""
    },
    "tags": []
   },
   "outputs": [],
   "source": [
    "preproccess took 0.6206 seconds\n",
    "evaluate took 24.9171 seconds\n",
    "calculateStatistics took 1.9571 seconds\n",
    "Expected: {'gt': 625, 'tp': 468, 'fp': 351, 'fn': 157}\n",
    "Ground Truth Size: 625\n",
    "True Positives: 468\n",
    "False Positives: 351\n",
    "False Negatives: 157\n",
    "Precision: 0.5714\n",
    "Recall: 0.7488\n",
    "\n",
    "preproccess took 0.7642 seconds\n",
    "evaluate took 21.1607 seconds\n",
    "calculateStatistics took 2.9809 seconds\n",
    "Expected: {'gt': 625, 'tp': 468, 'fp': 351, 'fn': 157}\n",
    "Ground Truth Size: 625\n",
    "True Positives: 468\n",
    "False Positives: 351\n",
    "False Negatives: 157\n",
    "Precision: 0.5714\n",
    "Recall: 0.7488"
   ]
  },
  {
   "cell_type": "code",
   "execution_count": 121,
   "id": "eb71f50e-bcb0-4081-a5f2-f59d1be187bd",
   "metadata": {
    "scrolled": true
   },
   "outputs": [
    {
     "name": "stdout",
     "output_type": "stream",
     "text": [
      "0.0003428459167480469\n"
     ]
    },
    {
     "data": {
      "text/plain": [
       "(0, 125, 0, 0, 0.0)"
      ]
     },
     "execution_count": 121,
     "metadata": {},
     "output_type": "execute_result"
    }
   ],
   "source": [
    "def fast_chunk(s):\n",
    "    bs = s.encode('utf-8')\n",
    "    chunk_len = len(bs) // 4 * 4  # ensure multiple of 4\n",
    "    return np.frombuffer(bs[:chunk_len], dtype='S4')\n",
    "    \n",
    "# Step 1: Find best 3-column combination (least unique combinations)\n",
    "columns = ['col1', 'col2', 'col3', 'col4', 'col5']\n",
    "unique_counts = []\n",
    "\n",
    "for cols in combinations(columns, 3):\n",
    "    count = df2[list(cols)].astype(str).agg(''.join, axis=1).nunique()\n",
    "    unique_counts.append((cols, count))\n",
    "\n",
    "best_combination = min(unique_counts, key=lambda x: x[1])\n",
    "best_cols = list(best_combination[0])\n",
    "\n",
    "# Step 2: Build index based on best 3 columns\n",
    "df2['index_key'] = df2[best_cols].astype(str).agg(''.join, axis=1)\n",
    "df2_proc = df2.apply(lambda x: (x['id'], ''.join(map(str, x[1:6])), x['index_key']), axis=1).to_numpy()\n",
    "\n",
    "df1['index_key'] = df1[best_cols].astype(str).agg(''.join, axis=1)\n",
    "df1_proc = df1.apply(lambda x: (x['id'], ''.join(map(str, x[1:6])), x['index_key']), axis=1).to_numpy()\n",
    "\n",
    "\n",
    "# Step 3: Build hashed buckets from df2 (by index_key)\n",
    "hashed_bucket = defaultdict(lambda: defaultdict(list))\n",
    "\n",
    "for id_val, full_str, index_key in df2_proc:\n",
    "    hashed_bucket[index_key][full_str].append(id_val)\n",
    "\n",
    "# Precompute chunked df1 strings once\n",
    "chunked_df1 = [(hash, fast_chunk(combined), match_id) for match_id, combined, hash in df1_proc]\n",
    "\n",
    "start = time.time()\n",
    "\n",
    "for index_key, df1_chunks, match_id in chunked_df1:\n",
    "    \n",
    "    if index_key not in hashed_bucket:\n",
    "       continue\n",
    "        \n",
    "    for full_str in hashed_bucket[key]:\n",
    "        df2_chunks = fast_chunk(full_str)\n",
    "        if len(df1_chunks) != len(df2_chunks):\n",
    "            continue\n",
    "        match_count = np.count_nonzero(df1_chunks == df2_chunks)\n",
    "        if match_count >= 3:\n",
    "            hashed_bucket[key][full_str].append(match_id)\n",
    "            break\n",
    "\n",
    "print(time.time() - start)\n",
    "\n",
    "flat = []\n",
    "for subdict in hashed_bucket.values():\n",
    "    for ids in subdict.values():\n",
    "        flat.append(ids)\n",
    "\n",
    "fp, tp, fn = 0, 0, 0\n",
    "\n",
    "for bucket in flat:\n",
    "    if len(bucket) > 1:\n",
    "        ids_to_check = np.array(bucket[1:])\n",
    "        if (any(np.isin(ids_to_check, ground_truth_ids_np))):\n",
    "            tp += 1\n",
    "        else:\n",
    "            fp += 1\n",
    "\n",
    "fn = len(ground_truth_ids_np) - tp\n",
    "precision = tp / (tp + fp) if (tp + fp) > 0 else 0\n",
    "recall = tp / (tp + fn) if (tp + fn) > 0 else 0\n",
    "\n",
    "tp, fn, fp, precision, recall"
   ]
  },
  {
   "cell_type": "code",
   "execution_count": 118,
   "id": "c745782f-41aa-43f5-a595-0092ababd45a",
   "metadata": {},
   "outputs": [
    {
     "data": {
      "text/plain": [
       "defaultdict(<function __main__.<lambda>()>,\n",
       "            {'B278M489W852': defaultdict(list,\n",
       "                         {'B278M489W852O906B652': ['NEW82540']}),\n",
       "             'Q555M940Z833': defaultdict(list,\n",
       "                         {'Q555M940Z833O380B916': ['ID00009']}),\n",
       "             'D770C000G960': defaultdict(list,\n",
       "                         {'D770C000G960Z097G376': ['NEW67896']}),\n",
       "             'C678Z545I904': defaultdict(list,\n",
       "                         {'C678Z545I904J243P353': ['ID00005']}),\n",
       "             'F357C719A834': defaultdict(list,\n",
       "                         {'F357C719A834T346B769': ['NEW28633']}),\n",
       "             'K011A722I355': defaultdict(list,\n",
       "                         {'K011A722I355H817C344': ['NEW54635']}),\n",
       "             'S276Y283L554': defaultdict(list,\n",
       "                         {'S276Y283L554P404F209': ['NEW91955']}),\n",
       "             'G471R284O013': defaultdict(list,\n",
       "                         {'G471R284O013D713C034': ['NEW22056']}),\n",
       "             'V435W342L052': defaultdict(list,\n",
       "                         {'V435W342L052Q551U956': ['NEW75404']}),\n",
       "             'Q748N867G952': defaultdict(list,\n",
       "                         {'Q748N867G952O959X963': ['NEW39098']}),\n",
       "             'J705E619U813': defaultdict(list,\n",
       "                         {'J705E619U813B529D942': ['NEW24957']}),\n",
       "             'U166H181R794': defaultdict(list,\n",
       "                         {'U166H181R794Q037B940': ['ID00010']}),\n",
       "             'Z452J008O176': defaultdict(list,\n",
       "                         {'Z452J008O176R611B903': ['ID00019']}),\n",
       "             'R764K162S567': defaultdict(list,\n",
       "                         {'R764K162S567C077U440': ['NEW49430']}),\n",
       "             'R052L696U026': defaultdict(list,\n",
       "                         {'R052L696U026E170B748': ['NEW47004']}),\n",
       "             'H604D556L340': defaultdict(list,\n",
       "                         {'H604D556L340U505V555': ['ID00007']}),\n",
       "             'D384B696X155': defaultdict(list,\n",
       "                         {'D384B696X155G598E977': ['NEW18071']}),\n",
       "             'V398N796L277': defaultdict(list,\n",
       "                         {'V398N796L277Y678P210': ['NEW35455']}),\n",
       "             'B782G756N409': defaultdict(list,\n",
       "                         {'B782G756N409H349I219': ['NEW19011']}),\n",
       "             'K615Q737F257': defaultdict(list,\n",
       "                         {'K615Q737F257J985T806': ['NEW34150']}),\n",
       "             'N522D799G163': defaultdict(list, {})})"
      ]
     },
     "execution_count": 118,
     "metadata": {},
     "output_type": "execute_result"
    }
   ],
   "source": [
    "hashed_bucket"
   ]
  },
  {
   "cell_type": "code",
   "execution_count": 102,
   "id": "a8311a37-eeb8-4b76-b25c-5cb013424683",
   "metadata": {},
   "outputs": [
    {
     "name": "stdout",
     "output_type": "stream",
     "text": [
      "0.9082980155944824\n"
     ]
    },
    {
     "data": {
      "text/plain": [
       "(2327, -2202, 69, 0.9712020033388982, 18.616)"
      ]
     },
     "execution_count": 102,
     "metadata": {},
     "output_type": "execute_result"
    }
   ],
   "source": [
    "from itertools import combinations\n",
    "from collections import defaultdict\n",
    "import numpy as np\n",
    "import time\n",
    "\n",
    "def fast_chunk(s):\n",
    "    bs = s.encode('utf-8')\n",
    "    chunk_len = len(bs) // 4 * 4  # ensure multiple of 4\n",
    "    return np.frombuffer(bs[:chunk_len], dtype='S4')\n",
    "\n",
    "ground_truth_ids_np = np.intersect1d(df1['id'], df2['id'])\n",
    "# Step 1: Find best 3-column combination (least unique combinations)\n",
    "columns = ['col1', 'col2', 'col3', 'col4', 'col5']\n",
    "unique_counts = []\n",
    "\n",
    "for cols in combinations(columns, 3):\n",
    "    count = df2[list(cols)].astype(str).agg(''.join, axis=1).nunique()\n",
    "    unique_counts.append((cols, count))\n",
    "\n",
    "best_combination = min(unique_counts, key=lambda x: x[1])\n",
    "best_cols = list(best_combination[0])\n",
    "\n",
    "# Step 2: Build index based on best 3 columns\n",
    "df2['index_key'] = df2[best_cols].astype(str).agg(''.join, axis=1)\n",
    "df2_proc = df2.apply(lambda x: (x['id'], ''.join(map(str, x[1:6])), x['index_key']), axis=1).to_numpy()\n",
    "\n",
    "df1['index_key'] = df1[best_cols].astype(str).agg(''.join, axis=1)\n",
    "df1_proc = df1.apply(lambda x: (x['id'], ''.join(map(str, x[1:6])), x['index_key']), axis=1).to_numpy()\n",
    "\n",
    "\n",
    "\n",
    "# Step 3: Build hashed buckets from df2 (by index_key)\n",
    "hashed_bucket = defaultdict(lambda: defaultdict(list))\n",
    "\n",
    "for id_val, full_str, index_key in df2_proc:\n",
    "    hashed_bucket[index_key][full_str].append(id_val)\n",
    "\n",
    "# Precompute chunked df1 strings once\n",
    "chunked_df1 = [(hash, fast_chunk(combined), match_id) for match_id, combined, hash in df1_proc]\n",
    "\n",
    "fp, fn, tp = 0, 0 , 0\n",
    "start = time.time()\n",
    "\n",
    "for index_key, df1_chunks, match_id in chunked_df1:\n",
    "    for key in list(hashed_bucket.keys()):\n",
    "        fast_key1 = fast_chunk(index_key)\n",
    "        if np.count_nonzero(fast_key1 == fast_chunk(key)) == 0:\n",
    "            continue\n",
    "\n",
    "        for full_str in hashed_bucket[key]:\n",
    "            df2_chunks = fast_chunk(full_str)\n",
    "            if len(df1_chunks) != len(df2_chunks):\n",
    "                continue\n",
    "\n",
    "            match_count = np.count_nonzero(df1_chunks == df2_chunks)\n",
    "            if match_count >= 3:\n",
    "                hashed_bucket[key][full_str].append(match_id)\n",
    "                break\n",
    "\n",
    "print(time.time() - start)\n",
    "\n",
    "flat = []\n",
    "for subdict in hashed_bucket.values():\n",
    "    for ids in subdict.values():\n",
    "        flat.append(ids)\n",
    "\n",
    "for bucket in flat:\n",
    "    if len(bucket) > 1:\n",
    "        ids_to_check = np.array(bucket[1:])\n",
    "        mask = np.isin(ids_to_check, ground_truth_ids_np)\n",
    "        matched |= set(ids_to_check[mask])\n",
    "        fp += mask.size - np.count_nonzero(mask)\n",
    "\n",
    "tp = len(matched)\n",
    "fn = len(ground_truth_ids_np) - tp\n",
    "precision = tp / (tp + fp) if (tp + fp) > 0 else 0\n",
    "recall = tp / (tp + fn) if (tp + fn) > 0 else 0\n",
    "\n",
    "tp, fn, fp, precision, recall"
   ]
  },
  {
   "cell_type": "code",
   "execution_count": 2,
   "id": "ce8f0b9a-2b77-4f2e-b1be-e85695360596",
   "metadata": {},
   "outputs": [
    {
     "name": "stdout",
     "output_type": "stream",
     "text": [
      "Pipeline 1 avg time: 6.8511 sec\n",
      "Pipeline 2 avg time: 5.4194 sec\n",
      "-0.21% reduce time ---> improvement\n"
     ]
    }
   ],
   "source": [
    "import timeit\n",
    "\n",
    "def pipeline1():\n",
    "    dataset = SyntheticMatcherDataset(size=1000 , true_positive_ratio=0.70, threshold=3)\n",
    "    df1, df2 = dataset.df1, dataset.df2\n",
    "    expected = dataset.expected\n",
    "    \n",
    "    unique_tokens = pd.unique(pd.concat([df1.iloc[:, 1:6], df2.iloc[:, 1:6]], axis=0).stack())\n",
    "    token_map = {token: idx for idx, token in enumerate(unique_tokens)}\n",
    "    \n",
    "    def map_row(row):\n",
    "        return [token_map[val] for val in row[1:6]]\n",
    "        \n",
    "    # Keep column 0 as-is\n",
    "    df1_ids = df1.iloc[:, [0]]\n",
    "    \n",
    "    # Apply mapping only on columns 1 to 5\n",
    "    df1_mapped = df1.iloc[:, 1:6].apply(map_row, axis=1, result_type='expand')\n",
    "    \n",
    "    # Concatenate back with column 0\n",
    "    df1_final = pd.concat([df1_ids, df1_mapped], axis=1)\n",
    "    \n",
    "    # Repeat for df2\n",
    "    df2_ids = df2.iloc[:, [0]]\n",
    "    df2_mapped = df2.iloc[:, 1:6].apply(map_row, axis=1, result_type='expand')\n",
    "    df2_final = pd.concat([df2_ids, df2_mapped], axis=1)\n",
    "        \n",
    "    evaluator = DatasetEvaluator(df1, df2, expected, threshold=3, match_column=\"id\")\n",
    "    evaluator.evaluate()\n",
    "    # evaluator.printResults()\n",
    "\n",
    "def pipeline2():\n",
    "    dataset = SyntheticMatcherDataset(size=1000 , true_positive_ratio=0.70, threshold=3)\n",
    "    df1, df2 = dataset.df1, dataset.df2\n",
    "    expected = dataset.expected\n",
    "    \n",
    "    evaluator = DatasetEvaluator(df1, df2, expected, threshold=3, match_column=\"id\")\n",
    "    evaluator.evaluate()\n",
    "    # evaluator.printResults()\n",
    "\n",
    "time1 = timeit.timeit(pipeline1, number=10)\n",
    "time2 = timeit.timeit(pipeline2, number=10)\n",
    "\n",
    "print(f\"Pipeline 1 avg time: {time1 / 10:.4f} sec\")\n",
    "print(f\"Pipeline 2 avg time: {time2 / 10:.4f} sec\")\n",
    "\n",
    "if time1 < time2:\n",
    "    print(f\"{1 - time1/time2:.2f}% increase time ---> not improvement\")\n",
    "else:\n",
    "    print(f\"-{1 - time2/time1:.2f}% reduce time ---> improvement\")\n",
    "    "
   ]
  },
  {
   "cell_type": "code",
   "execution_count": 7,
   "id": "d6f50b75-71d4-4d0b-ad56-936d7e1e988d",
   "metadata": {},
   "outputs": [
    {
     "data": {
      "text/plain": [
       "1746562494.410388"
      ]
     },
     "execution_count": 7,
     "metadata": {},
     "output_type": "execute_result"
    }
   ],
   "source": [
    "Pipeline 1 avg time: 6.2479 sec\n",
    "Pipeline 2 avg time: 6.0408 sec\n",
    "\n",
    "Expected: {'gt': 125, 'tp': 87, 'fp': 38, 'fn': 38}\n",
    "Ground Truth Size: 125\n",
    "True Positives: 87\n",
    "False Positives: 38\n",
    "False Negatives: 38\n",
    "Precision: 0.6960\n",
    "Recall: 0.6960\n",
    "Elapsed Time: 1.26 seconds"
   ]
  },
  {
   "cell_type": "code",
   "execution_count": 38,
   "id": "fe4ae274-62b8-463b-aea5-0fe0c0caaa06",
   "metadata": {},
   "outputs": [
    {
     "name": "stdout",
     "output_type": "stream",
     "text": [
      "-0.03% reduce time ---> improvement\n"
     ]
    }
   ],
   "source": [
    "if time1 < time2:\n",
    "    print(f\"{1 - time1/time2:.2f}% increase time ---> not improvement\")\n",
    "else:\n",
    "    print(f\"-{1 - time2/time1:.2f}% reduce time ---> improvement\")\n",
    "    "
   ]
  },
  {
   "cell_type": "code",
   "execution_count": 32,
   "id": "f6ae61f4-f66b-4a16-9bf5-5653b61a1894",
   "metadata": {},
   "outputs": [
    {
     "data": {
      "text/plain": [
       "0.9668528625618208"
      ]
     },
     "execution_count": 32,
     "metadata": {},
     "output_type": "execute_result"
    }
   ],
   "source": []
  },
  {
   "cell_type": "code",
   "execution_count": 3,
   "id": "47325ccd-a77c-4341-aba0-4e83c56cd822",
   "metadata": {
    "scrolled": true
   },
   "outputs": [
    {
     "data": {
      "text/plain": [
       "{'R746E298Q412L291R232': ['ID00005'],\n",
       " 'R822W179H017P323F298': ['ID00009'],\n",
       " 'Z011X716M948W967S702': ['ID00007'],\n",
       " 'N002E396N843V935S719': ['ID00004'],\n",
       " 'N002E396N553I453S459': ['ID10004']}"
      ]
     },
     "execution_count": 3,
     "metadata": {},
     "output_type": "execute_result"
    }
   ],
   "source": [
    "{'R746E298Q412L291R232': ['ID00005'], 'R822W179H017P323F298': ['ID00009'], 'Z011X716M948W967S702': ['ID00007'], 'N002E396N843V935S719': ['ID00004'], 'N002E396N553I453S459': ['ID10004']}"
   ]
  },
  {
   "cell_type": "code",
   "execution_count": 45,
   "id": "feeba8ad-8cee-4741-8298-705d4ca5a443",
   "metadata": {},
   "outputs": [
    {
     "name": "stdout",
     "output_type": "stream",
     "text": [
      "Best column triplet (least unique values): ('col1', 'col2', 'col3')\n",
      "Number of unique combinations: 10000\n"
     ]
    }
   ],
   "source": [
    "from itertools import combinations\n",
    "\n",
    "columns = ['col1', 'col2', 'col3', 'col4', 'col5']\n",
    "\n",
    "# Store result as (column_triplet, unique_count)\n",
    "unique_counts = []\n",
    "\n",
    "for cols in combinations(columns, 3):\n",
    "    count = df2[list(cols)].agg(''.join, axis=1).nunique()\n",
    "    unique_counts.append((cols, count))\n",
    "\n",
    "# Find the combination with the minimum unique count\n",
    "best_combination = min(unique_counts, key=lambda x: x[1])\n",
    "\n",
    "print(\"Best column triplet (least unique values):\", best_combination[0])\n",
    "print(\"Number of unique combinations:\", best_combination[1])"
   ]
  },
  {
   "cell_type": "code",
   "execution_count": 7,
   "id": "955f3877-0ca7-4987-a52d-2ce10c5c47b5",
   "metadata": {},
   "outputs": [],
   "source": [
    "df1_proc = df1.apply(lambda x: (x[0], ''.join(map(str, x[1:]))), axis=1).to_numpy()\n",
    "df2_proc = df2.apply(lambda x: (x[0], ''.join(map(str, x[1:]))), axis=1).to_numpy()"
   ]
  },
  {
   "cell_type": "code",
   "execution_count": 41,
   "id": "d26648ad-cf14-48a8-9bb0-be6fcabdfebc",
   "metadata": {},
   "outputs": [
    {
     "data": {
      "text/plain": [
       "(100, ['col1', 'col2', 'col3'])"
      ]
     },
     "execution_count": 41,
     "metadata": {},
     "output_type": "execute_result"
    }
   ],
   "source": [
    "asd1 = df2[['col1', 'col2', 'col3']].agg(''.join, axis=1).nunique(), ['col1', 'col2', 'col3']\n",
    "asd2 = df2[['col2', 'col3', 'col4']].agg(''.join, axis=1).nunique(), ['col2', 'col3', 'col4']\n",
    "asd3 = df2[['col3', 'col4', 'col5']].agg(''.join, axis=1).nunique(), ['col3', 'col4', 'col5']\n",
    "min([asd1,asd2,asd3])"
   ]
  },
  {
   "cell_type": "code",
   "execution_count": 3,
   "id": "713762a3-d40f-4cbc-b253-8d3134514f12",
   "metadata": {},
   "outputs": [],
   "source": [
    "def fast_chunk(s):\n",
    "    bs = s.encode('utf-8')\n",
    "    chunk_len = len(bs) // 4 * 4  # ensure multiple of 4\n",
    "    return np.frombuffer(bs[:chunk_len], dtype='S4')"
   ]
  },
  {
   "cell_type": "code",
   "execution_count": 4,
   "id": "ab94a920-46c4-46e9-9164-0cf8859722ad",
   "metadata": {},
   "outputs": [
    {
     "data": {
      "text/plain": [
       "array([b'F553', b'F553', b'F553', b'F553', b'F553'], dtype='|S4')"
      ]
     },
     "execution_count": 4,
     "metadata": {},
     "output_type": "execute_result"
    }
   ],
   "source": []
  },
  {
   "cell_type": "code",
   "execution_count": 46,
   "id": "1f74c437-e401-44af-b055-c4eb6c0f6943",
   "metadata": {},
   "outputs": [
    {
     "data": {
      "text/plain": [
       "[(('col1', 'col2', 'col3'), 10000),\n",
       " (('col1', 'col2', 'col4'), 10000),\n",
       " (('col1', 'col2', 'col5'), 10000),\n",
       " (('col1', 'col3', 'col4'), 10000),\n",
       " (('col1', 'col3', 'col5'), 10000),\n",
       " (('col1', 'col4', 'col5'), 10000),\n",
       " (('col2', 'col3', 'col4'), 10000),\n",
       " (('col2', 'col3', 'col5'), 10000),\n",
       " (('col2', 'col4', 'col5'), 10000),\n",
       " (('col3', 'col4', 'col5'), 10000)]"
      ]
     },
     "execution_count": 46,
     "metadata": {},
     "output_type": "execute_result"
    }
   ],
   "source": [
    "unique_counts"
   ]
  },
  {
   "cell_type": "code",
   "execution_count": null,
   "id": "219fbf04-6da4-4c30-a07f-ddbbfec93e20",
   "metadata": {},
   "outputs": [],
   "source": [
    "hashed_bucket"
   ]
  },
  {
   "cell_type": "code",
   "execution_count": 87,
   "id": "e3191a21-96d1-4a3d-aa9f-faa0c59e7d77",
   "metadata": {},
   "outputs": [
    {
     "data": {
      "text/plain": [
       "False"
      ]
     },
     "execution_count": 87,
     "metadata": {},
     "output_type": "execute_result"
    }
   ],
   "source": []
  },
  {
   "cell_type": "code",
   "execution_count": 82,
   "id": "140bc717-3140-492b-9472-6b67f3bc3098",
   "metadata": {},
   "outputs": [
    {
     "data": {
      "text/plain": [
       "(4, 2, 3, 0.5714285714285714, 0.6666666666666666)"
      ]
     },
     "execution_count": 82,
     "metadata": {},
     "output_type": "execute_result"
    }
   ],
   "source": []
  },
  {
   "cell_type": "code",
   "execution_count": 81,
   "id": "51a47082-13b9-456e-96fc-83b26884f86b",
   "metadata": {},
   "outputs": [
    {
     "data": {
      "text/plain": [
       "(0, 6, 0, 0, 0.0)"
      ]
     },
     "execution_count": 81,
     "metadata": {},
     "output_type": "execute_result"
    }
   ],
   "source": [
    "# Evaluate precision/recall\n",
    "matched = set()\n",
    "fp = 0\n",
    "ground_truth_ids_np = np.intersect1d(df1['id'], df2['id'])\n",
    "\n",
    "for bucket in hashed_bucket.values():\n",
    "    if len(bucket) > 1:\n",
    "        ids_to_check = np.array(bucket[1:])  # exclude the original\n",
    "        mask = np.isin(ids_to_check, ground_truth_ids_np)\n",
    "        matched |= set(ids_to_check[mask])\n",
    "        fp += mask.size - np.count_nonzero(mask)\n",
    "\n",
    "tp = len(matched)\n",
    "fn = len(ground_truth_ids_np) - tp\n",
    "precision = tp / (tp + fp) if (tp + fp) > 0 else 0\n",
    "recall = tp / (tp + fn) if (tp + fn) > 0 else 0\n",
    "\n",
    "tp, fn, fp, precision, recall"
   ]
  },
  {
   "cell_type": "code",
   "execution_count": 80,
   "id": "06064040-d6bd-4989-ad7e-dcea2fe08e67",
   "metadata": {},
   "outputs": [
    {
     "data": {
      "text/plain": [
       "array(['ID00001', 'ID00009', 'ID00011', 'ID00013', 'ID00014', 'ID00016'],\n",
       "      dtype='<U7')"
      ]
     },
     "execution_count": 80,
     "metadata": {},
     "output_type": "execute_result"
    }
   ],
   "source": [
    "np.array(list(np.intersect1d(df1['id'], df2['id'])))"
   ]
  },
  {
   "cell_type": "code",
   "execution_count": 66,
   "id": "6570ebe1-c1c4-41b6-bf0e-505580ed8bab",
   "metadata": {},
   "outputs": [
    {
     "data": {
      "text/plain": [
       "6"
      ]
     },
     "execution_count": 66,
     "metadata": {},
     "output_type": "execute_result"
    }
   ],
   "source": [
    "np.array(list(np.intersect1d(df1['id'], df2['id']))).size"
   ]
  },
  {
   "cell_type": "code",
   "execution_count": 73,
   "id": "46c7c310-7f5e-43d2-9edf-2a2f79a19e47",
   "metadata": {},
   "outputs": [
    {
     "data": {
      "text/plain": [
       "array(['ID00017'], dtype='<U7')"
      ]
     },
     "execution_count": 73,
     "metadata": {},
     "output_type": "execute_result"
    }
   ],
   "source": [
    "ids_to_check"
   ]
  },
  {
   "cell_type": "code",
   "execution_count": 16,
   "id": "d48b528c-a2aa-471d-a64c-ae75c2ef3b6b",
   "metadata": {},
   "outputs": [],
   "source": [
    "def fast_chunk(s: str, trim: int = 0):\n",
    "    chunks = [s[i:i+4] for i in range(0, len(s) - len(s) % 4, 4)]\n",
    "    if trim > 0:\n",
    "        chunks = [chunk[:-trim] if len(chunk) > trim else '' for chunk in chunks]\n",
    "    return np.array(chunks)\n",
    "\n",
    "def combine_and_trim_chunks(row, trim: int = 0):\n",
    "    chunks = [str(x) for x in row[1:]]  # skip ID\n",
    "    trimmed_chunks = [c[:-1] if 1 > 0 else c for c in chunks]\n",
    "    combined = ''.join(trimmed_chunks)\n",
    "    return (row[0], combined)"
   ]
  },
  {
   "cell_type": "code",
   "execution_count": 4,
   "id": "98f892a5-f5f3-4ff6-9ea3-a39233edcf9e",
   "metadata": {},
   "outputs": [
    {
     "data": {
      "text/plain": [
       "array(['R74', 'E29', 'Q41', 'L29', 'R23'], dtype='<U3')"
      ]
     },
     "execution_count": 4,
     "metadata": {},
     "output_type": "execute_result"
    }
   ],
   "source": [
    "fast_chunk(\"R746E298Q412L291R232\", trim=1)"
   ]
  },
  {
   "cell_type": "code",
   "execution_count": 11,
   "id": "5cd53945-d306-4fb5-923c-7b0ef3df4fef",
   "metadata": {},
   "outputs": [
    {
     "data": {
      "text/plain": [
       "('id', 'R74E29Q41L29R23')"
      ]
     },
     "execution_count": 11,
     "metadata": {},
     "output_type": "execute_result"
    }
   ],
   "source": [
    "combine_and_trim_chunks([\"id\",\"R746\", \"E298\", \"Q412\", \"L291\",\"R232\"], 1)"
   ]
  },
  {
   "cell_type": "code",
   "execution_count": 17,
   "id": "2b7fc97d-8272-4753-b8cc-c68afe20605d",
   "metadata": {},
   "outputs": [
    {
     "data": {
      "text/plain": [
       "0      (ID00005, R74E29Q41L29R23)\n",
       "1      (ID00009, R82W17H01P32F29)\n",
       "2      (ID00007, Z01X71M94W96S70)\n",
       "3      (ID00004, N00E39N84V93S71)\n",
       "4      (ID10004, N00E39N55I45S45)\n",
       "5     (NEW80187, J54B22G49W67S49)\n",
       "6     (NEW30110, N32K68T43C22W96)\n",
       "7     (NEW72832, F87Q76H82Z15X67)\n",
       "8     (NEW30110, R56C43M68Q68Q86)\n",
       "9     (NEW81243, R76N68A10K47R63)\n",
       "10    (NEW52689, A08V73W15A64H33)\n",
       "11    (NEW67368, Z07J61G87W11Q50)\n",
       "12    (NEW72348, J54B22G49R55S49)\n",
       "13    (NEW34469, Y99H89W67L96M82)\n",
       "dtype: object"
      ]
     },
     "execution_count": 17,
     "metadata": {},
     "output_type": "execute_result"
    }
   ],
   "source": [
    "evaluator.df2.apply(combine_and_trim_chunks, axis=1)"
   ]
  },
  {
   "cell_type": "code",
   "execution_count": null,
   "id": "d799b338-4526-4ed5-8b38-ed0a776e6d09",
   "metadata": {},
   "outputs": [],
   "source": []
  }
 ],
 "metadata": {
  "kernelspec": {
   "display_name": "Python 3 (ipykernel)",
   "language": "python",
   "name": "python3"
  },
  "language_info": {
   "codemirror_mode": {
    "name": "ipython",
    "version": 3
   },
   "file_extension": ".py",
   "mimetype": "text/x-python",
   "name": "python",
   "nbconvert_exporter": "python",
   "pygments_lexer": "ipython3",
   "version": "3.11.6"
  }
 },
 "nbformat": 4,
 "nbformat_minor": 5
}
