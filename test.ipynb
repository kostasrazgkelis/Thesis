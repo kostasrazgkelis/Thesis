{
 "cells": [
  {
   "cell_type": "code",
   "execution_count": 1,
   "id": "54eabc84-d793-4183-920d-ac4f20ab2902",
   "metadata": {},
   "outputs": [
    {
     "name": "stdout",
     "output_type": "stream",
     "text": [
      "Requirement already satisfied: jellyfish in /opt/conda/lib/python3.11/site-packages (1.2.0)\n",
      "Requirement already satisfied: faker in /opt/conda/lib/python3.11/site-packages (37.1.0)\n",
      "Requirement already satisfied: tzdata in /opt/conda/lib/python3.11/site-packages (from faker) (2023.3)\n"
     ]
    }
   ],
   "source": [
    "!pip install jellyfish\n",
    "!pip install faker"
   ]
  },
  {
   "cell_type": "code",
   "execution_count": 1,
   "id": "c7fa1b45-7b04-4cc2-a017-5cfbf9ffec54",
   "metadata": {},
   "outputs": [],
   "source": [
    "import pyspark\n",
    "import jellyfish\n",
    "import pandas as pd\n",
    "import numpy as np\n",
    "from typing import List\n",
    "import os\n",
    "import math\n",
    "from itertools import combinations, product\n",
    "import time\n",
    "from concurrent.futures import ProcessPoolExecutor\n",
    "from collections import defaultdict\n",
    "from packages.generateDataSets import SyntheticMatcherDataset\n",
    "from packages.calculateStatistics import DatasetEvaluator"
   ]
  },
  {
   "cell_type": "code",
   "execution_count": 2,
   "id": "937c68bc-bef6-402f-8add-6fbeddfb9a87",
   "metadata": {},
   "outputs": [
    {
     "name": "stdout",
     "output_type": "stream",
     "text": [
      "Expected: {'gt': 5, 'tp': 4, 'fp': 2, 'fn': 1}\n",
      "Ground Truth Size: 5\n",
      "True Positives: 4\n",
      "False Positives: 0\n",
      "False Negatives: 1\n",
      "Precision: 1.0000\n",
      "Recall: 0.8000\n",
      "Elapsed Time: 0.00 seconds\n"
     ]
    }
   ],
   "source": [
    "\n",
    "# Data for df1\n",
    "data1 = [\n",
    "    ['ID00005', 'N039', 'E298', 'Q412', 'V409', 'R232'], #TP1\n",
    "    ['ID00009', 'R822', 'W179', 'H017', 'P323', 'F298'], #TP2\n",
    "    ['ID00007', 'R449', 'X716', 'M948', 'G667', 'S702'], #TP3\n",
    "    ['ID00004', 'N002', 'E396', 'N843', 'I458', 'S719'], #TP4\n",
    "    ['ID10004', 'N002', 'E396', 'N853', 'I623', 'S569'], #FN1\n",
    "    ['NEW72378', 'J547', 'B222', 'G492', 'R551', 'S490'], #FP1\n",
    "    ['ID00008', 'N322', 'K685', 'T442', 'C825', 'W967'], #FP2\n",
    "    ['ID00000', 'W815', 'L281', 'R155', 'F768', 'B914'],\n",
    "    ['ID00001', 'C172', 'B326', 'X400', 'M508', 'O776'],\n",
    "    ['ID00002', 'V683', 'C265', 'J127', 'D589', 'F482'],\n",
    "    ['ID00003', 'E851', 'P721', 'F745', 'D863', 'K229'],\n",
    "    ['ID00016', 'T873', 'D670', 'U046', 'Z181', 'X621'],\n",
    "    ['ID00017', 'F327', 'G856', 'E567', 'O929', 'Q721'],\n",
    "    ['ID00010', 'O283', 'T723', 'Z034', 'V319', 'X338'],\n",
    "]\n",
    "\n",
    "# Data for df2\n",
    "data2 = [\n",
    "    ['ID00005', 'R746', 'E298', 'Q412', 'L291', 'R232'], #TP1\n",
    "    ['ID00009', 'R822', 'W179', 'H017', 'P323', 'F298'], #TP2\n",
    "    ['ID00007', 'Z011', 'X716', 'M948', 'W967', 'S702'], #TP3\n",
    "    ['ID00004', 'N002', 'E396', 'N843', 'V935', 'S719'], #TP4\n",
    "    ['ID10004', 'N002', 'E396', 'N553', 'I453', 'S459'], #FN1\n",
    "    ['NEW80187', 'J547', 'B222', 'G492', 'W673', 'S490'], #FP1\n",
    "    ['NEW30110', 'N322', 'K685', 'T432', 'C225', 'W967'], #FP2\n",
    "    ['NEW72832', 'F875', 'Q768', 'H822', 'Z154', 'X678'], \n",
    "    ['NEW30110', 'R560', 'C434', 'M687', 'Q689', 'Q863'],\n",
    "    ['NEW81243', 'R762', 'N687', 'A109', 'K476', 'R637'],\n",
    "    ['NEW52689', 'A089', 'V733', 'W158', 'A640', 'H331'],\n",
    "    ['NEW67368', 'Z079', 'J617', 'G878', 'W111', 'Q500'],\n",
    "    ['NEW72348', 'J547', 'B222', 'G492', 'R551', 'S490'],\n",
    "    ['NEW34469', 'Y990', 'H898', 'W673', 'L967', 'M829'],\n",
    "]\n",
    "\n",
    "# Create DataFrames\n",
    "columns = ['id', 'col1', 'col2', 'col3', 'col4', 'col5']\n",
    "df1 = pd.DataFrame(data1, columns=columns)\n",
    "df2 = pd.DataFrame(data2, columns=columns)\n",
    "expected = {'gt': 5, 'tp': 4, 'fp': 2, 'fn': 1}\n",
    "\n",
    "evaluator = DatasetEvaluator(df1, df2, expected, threshold=3, match_column='id')\n",
    "evaluator.evaluate()\n",
    "# evaluator.calculateStatistics()\n",
    "evaluator.printResults()"
   ]
  },
  {
   "cell_type": "code",
   "execution_count": 4,
   "id": "542d83a7-fcda-424e-92c1-f666c1be7136",
   "metadata": {},
   "outputs": [
    {
     "name": "stdout",
     "output_type": "stream",
     "text": [
      "Expected: {'gt': 312, 'tp': 218, 'fp': 94, 'fn': 94}\n",
      "Ground Truth Size: 312\n",
      "True Positives: 218\n",
      "False Positives: 94\n",
      "False Negatives: 94\n",
      "Precision: 0.6987\n",
      "Recall: 0.6987\n",
      "Elapsed Time: 1.78 seconds\n"
     ]
    }
   ],
   "source": [
    "dataset = SyntheticMatcherDataset(size=1250 , true_positive_ratio=0.70, threshold=3)\n",
    "df1, df2 = dataset.df1, dataset.df2\n",
    "expected = dataset.expected\n",
    "\n",
    "evaluator = DatasetEvaluator(df1, df2, expected, threshold=3, match_column=\"id\")\n",
    "evaluator.evaluate()\n",
    "evaluator.printResults()"
   ]
  },
  {
   "cell_type": "code",
   "execution_count": null,
   "id": "fe0d584d-8e52-4c56-ae07-eb0be03cd46b",
   "metadata": {
    "scrolled": true
   },
   "outputs": [],
   "source": [
    "1250 Elapsed Time: 6.29 seconds\n",
    "2500 Elapsed Time: 26 seconds \n",
    "5000 Elapsed Time: 108.56 seconds\n",
    "10000 Elapsed Time: 578.75 seconds"
   ]
  },
  {
   "cell_type": "code",
   "execution_count": 2,
   "id": "ce8f0b9a-2b77-4f2e-b1be-e85695360596",
   "metadata": {},
   "outputs": [
    {
     "name": "stdout",
     "output_type": "stream",
     "text": [
      "Pipeline 1 avg time: 6.8511 sec\n",
      "Pipeline 2 avg time: 5.4194 sec\n",
      "-0.21% reduce time ---> improvement\n"
     ]
    }
   ],
   "source": [
    "import timeit\n",
    "\n",
    "def pipeline1():\n",
    "    dataset = SyntheticMatcherDataset(size=1000 , true_positive_ratio=0.70, threshold=3)\n",
    "    df1, df2 = dataset.df1, dataset.df2\n",
    "    expected = dataset.expected\n",
    "    \n",
    "    unique_tokens = pd.unique(pd.concat([df1.iloc[:, 1:6], df2.iloc[:, 1:6]], axis=0).stack())\n",
    "    token_map = {token: idx for idx, token in enumerate(unique_tokens)}\n",
    "    \n",
    "    def map_row(row):\n",
    "        return [token_map[val] for val in row[1:6]]\n",
    "        \n",
    "    # Keep column 0 as-is\n",
    "    df1_ids = df1.iloc[:, [0]]\n",
    "    \n",
    "    # Apply mapping only on columns 1 to 5\n",
    "    df1_mapped = df1.iloc[:, 1:6].apply(map_row, axis=1, result_type='expand')\n",
    "    \n",
    "    # Concatenate back with column 0\n",
    "    df1_final = pd.concat([df1_ids, df1_mapped], axis=1)\n",
    "    \n",
    "    # Repeat for df2\n",
    "    df2_ids = df2.iloc[:, [0]]\n",
    "    df2_mapped = df2.iloc[:, 1:6].apply(map_row, axis=1, result_type='expand')\n",
    "    df2_final = pd.concat([df2_ids, df2_mapped], axis=1)\n",
    "        \n",
    "    evaluator = DatasetEvaluator(df1, df2, expected, threshold=3, match_column=\"id\")\n",
    "    evaluator.evaluate()\n",
    "    # evaluator.printResults()\n",
    "\n",
    "def pipeline2():\n",
    "    dataset = SyntheticMatcherDataset(size=1000 , true_positive_ratio=0.70, threshold=3)\n",
    "    df1, df2 = dataset.df1, dataset.df2\n",
    "    expected = dataset.expected\n",
    "    \n",
    "    evaluator = DatasetEvaluator(df1, df2, expected, threshold=3, match_column=\"id\")\n",
    "    evaluator.evaluate()\n",
    "    # evaluator.printResults()\n",
    "\n",
    "time1 = timeit.timeit(pipeline1, number=10)\n",
    "time2 = timeit.timeit(pipeline2, number=10)\n",
    "\n",
    "print(f\"Pipeline 1 avg time: {time1 / 10:.4f} sec\")\n",
    "print(f\"Pipeline 2 avg time: {time2 / 10:.4f} sec\")\n",
    "\n",
    "if time1 < time2:\n",
    "    print(f\"{1 - time1/time2:.2f}% increase time ---> not improvement\")\n",
    "else:\n",
    "    print(f\"-{1 - time2/time1:.2f}% reduce time ---> improvement\")\n",
    "    "
   ]
  },
  {
   "cell_type": "code",
   "execution_count": 7,
   "id": "d6f50b75-71d4-4d0b-ad56-936d7e1e988d",
   "metadata": {},
   "outputs": [
    {
     "data": {
      "text/plain": [
       "1746562494.410388"
      ]
     },
     "execution_count": 7,
     "metadata": {},
     "output_type": "execute_result"
    }
   ],
   "source": [
    "Pipeline 1 avg time: 6.2479 sec\n",
    "Pipeline 2 avg time: 6.0408 sec\n",
    "\n",
    "Expected: {'gt': 125, 'tp': 87, 'fp': 38, 'fn': 38}\n",
    "Ground Truth Size: 125\n",
    "True Positives: 87\n",
    "False Positives: 38\n",
    "False Negatives: 38\n",
    "Precision: 0.6960\n",
    "Recall: 0.6960\n",
    "Elapsed Time: 1.26 seconds"
   ]
  },
  {
   "cell_type": "code",
   "execution_count": 38,
   "id": "fe4ae274-62b8-463b-aea5-0fe0c0caaa06",
   "metadata": {},
   "outputs": [
    {
     "name": "stdout",
     "output_type": "stream",
     "text": [
      "-0.03% reduce time ---> improvement\n"
     ]
    }
   ],
   "source": [
    "if time1 < time2:\n",
    "    print(f\"{1 - time1/time2:.2f}% increase time ---> not improvement\")\n",
    "else:\n",
    "    print(f\"-{1 - time2/time1:.2f}% reduce time ---> improvement\")\n",
    "    "
   ]
  },
  {
   "cell_type": "code",
   "execution_count": 32,
   "id": "f6ae61f4-f66b-4a16-9bf5-5653b61a1894",
   "metadata": {},
   "outputs": [
    {
     "data": {
      "text/plain": [
       "0.9668528625618208"
      ]
     },
     "execution_count": 32,
     "metadata": {},
     "output_type": "execute_result"
    }
   ],
   "source": []
  },
  {
   "cell_type": "code",
   "execution_count": null,
   "id": "47325ccd-a77c-4341-aba0-4e83c56cd822",
   "metadata": {},
   "outputs": [],
   "source": []
  }
 ],
 "metadata": {
  "kernelspec": {
   "display_name": "Python 3 (ipykernel)",
   "language": "python",
   "name": "python3"
  },
  "language_info": {
   "codemirror_mode": {
    "name": "ipython",
    "version": 3
   },
   "file_extension": ".py",
   "mimetype": "text/x-python",
   "name": "python",
   "nbconvert_exporter": "python",
   "pygments_lexer": "ipython3",
   "version": "3.11.6"
  }
 },
 "nbformat": 4,
 "nbformat_minor": 5
}
