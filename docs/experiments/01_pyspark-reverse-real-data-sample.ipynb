{
 "cells": [
  {
   "cell_type": "code",
   "execution_count": 8,
   "id": "0519805f-0560-4f4c-9de6-703ac57073c2",
   "metadata": {
    "tags": []
   },
   "outputs": [],
   "source": [
    "from pyspark.sql.functions import lit\n",
    "from pyspark.sql import SparkSession, functions as F\n",
    "import pandas as pd\n",
    "from packages.utils.transformations import MyTransformation as mtf\n",
    "from packages.utils.spark_udfs import soundex_udf\n",
    "from pyspark.sql.functions import col, array_contains\n",
    "\n",
    "\n",
    "spark = SparkSession.builder.master(\"local[*]\").appName(\"example2\").getOrCreate()\n",
    "\n",
    "# Read and rename columns as before\n",
    "def read_with_origin(path, origin):\n",
    "    df = spark.read.csv(path, header=None, inferSchema=True).select([\"_c0\",\"_c1\",\"_c2\",\"_c3\",\"_c4\",\"_c5\"])\n",
    "    for i in range(6):\n",
    "        df = df.withColumnRenamed(f\"_c{i}\", str(i))\n",
    "    df = df.withColumn(\"origin\", lit(origin))\n",
    "    return df"
   ]
  },
  {
   "cell_type": "code",
   "execution_count": 9,
   "id": "85b7e261-19bf-447a-b42d-a4c60a4f4e0c",
   "metadata": {
    "tags": []
   },
   "outputs": [],
   "source": [
    "_expected = {'gt': 25000, 'tp': 24550, 'fp': 12333, 'fn': 450}\n",
    "match_column = \"0\"\n",
    "\n",
    "df1 = read_with_origin(\"data/df1.csv\", \"df1\")\n",
    "df2 = read_with_origin(\"data/df2.csv\", \"df2\")\n",
    "df3 = read_with_origin(\"data/df3.csv\", \"df3\")\n",
    "df4 = read_with_origin(\"data/df4.csv\", \"df4\")\n",
    "df5 = read_with_origin(\"data/df5.csv\", \"df5\")\n",
    "\n",
    "for col_name in df1.columns:\n",
    "    if col_name != match_column:\n",
    "        df1 = df1.withColumn(str(col_name), soundex_udf(df1[col_name]))\n",
    "        df2 = df2.withColumn(str(col_name), soundex_udf(df2[col_name]))\n",
    "        df3 = df3.withColumn(str(col_name), soundex_udf(df3[col_name]))\n",
    "        df4 = df4.withColumn(str(col_name), soundex_udf(df4[col_name]))\n",
    "        df5 = df5.withColumn(str(col_name), soundex_udf(df5[col_name]))\n",
    "        \n",
    "# Concatenate and drop duplicates\n",
    "spark_df1 = df1\n",
    "spark_df2 = df2.union(df3).union(df4).union(df5)"
   ]
  },
  {
   "cell_type": "code",
   "execution_count": 15,
   "id": "6cefdc0c-fdd7-4f6a-a3d7-e25750464bd9",
   "metadata": {
    "tags": []
   },
   "outputs": [
    {
     "data": {
      "text/plain": [
       "DataFrame[bucket_id: string, assigned_df1_ids: array<string>]"
      ]
     },
     "execution_count": 15,
     "metadata": {},
     "output_type": "execute_result"
    }
   ],
   "source": [
    "cols = ['1', '2', '3', '4', '5']\n",
    "\n",
    "ground_truth_ids = spark_df1.join(spark_df2, on=[\"0\"], how=\"inner\").select(F.col(\"0\").alias(\"df1_id\")).distinct()\n",
    "ground_truth_ids.cache()\n",
    "gt = ground_truth_ids.count()\n",
    "\n",
    "# 1. Create entity keys for df1\n",
    "df1_entities = spark_df1.withColumn(\n",
    "    \"entity_key\", F.concat_ws(\"\", *[F.col(c) for c in cols])\n",
    ").select(F.col(\"0\").alias(\"df1_id\"), \"entity_key\", *cols)\n",
    "\n",
    "# 2. Create entity keys for the bucket (use spark_df2 or concatData)\n",
    "bucket_entities = spark_df2.withColumn(\n",
    "    \"entity_key\", F.concat_ws(\"\", *[F.col(c) for c in cols])\n",
    ").select(\n",
    "    F.col(\"0\").alias(\"bucket_id\"),\n",
    "    \"entity_key\",\n",
    "    *cols\n",
    ")\n",
    "\n",
    "# 3. Cross join and count matches\n",
    "joined = df1_entities.alias(\"a\").crossJoin(bucket_entities.alias(\"b\"))\n",
    "match_exprs = [(F.col(f\"a.{col}\") == F.col(f\"b.{col}\")).cast(\"int\") for col in cols]\n",
    "joined = joined.withColumn(\"match_count\", sum(match_exprs))\n",
    "\n",
    "# 4. Filter pairs with at least 3 matching columns\n",
    "filtered = joined.filter(F.col(\"match_count\") >= 3)\n",
    "\n",
    "# 5. For each df1_id, find the max match_count\n",
    "max_match = filtered.groupBy(\"a.df1_id\").agg(F.max(\"match_count\").alias(\"max_match_count\")).withColumnRenamed(\"df1_id\", \"max_df1_id\")\n",
    "\n",
    "# 6. Join back to get all (df1_id, bucket_id) pairs with the max match_count\n",
    "best_matches = filtered.join(\n",
    "    max_match,\n",
    "    (filtered[\"a.df1_id\"] == max_match[\"max_df1_id\"]) & (filtered[\"match_count\"] == max_match[\"max_match_count\"])\n",
    ").select(\n",
    "    F.col(\"a.df1_id\").alias(\"df1_id\"),\n",
    "    F.col(\"b.bucket_id\").alias(\"bucket_id\"),\n",
    "    F.col(\"match_count\")\n",
    ")\n",
    "\n",
    "# 7. Group by bucket_id to collect all df1_ids assigned to it\n",
    "buckets = best_matches.groupBy(\"bucket_id\").agg(\n",
    "    F.collect_list(\"df1_id\").alias(\"assigned_df1_ids\")\n",
    ")\n",
    "\n",
    "buckets.cache()"
   ]
  },
  {
   "cell_type": "code",
   "execution_count": 16,
   "id": "27ad3647-d0d0-427f-bb5b-eeb8aedd1894",
   "metadata": {
    "tags": []
   },
   "outputs": [
    {
     "name": "stdout",
     "output_type": "stream",
     "text": [
      "{'gt': 5, 'tp': 4, 'fp': 2, 'fn': 1}\n",
      "Ground Truth (gt): 5\n",
      "True Positives (tp): 4\n",
      "False Positives (fp): 2\n",
      "False Negative (fn): 1\n",
      "precision: 0.6666666666666666\n",
      "Recall: 0.8\n"
     ]
    }
   ],
   "source": [
    "# True Positives\n",
    "tp_arr = buckets \\\n",
    "    .filter(array_contains(col(\"assigned_df1_ids\"), col(\"bucket_id\"))) \\\n",
    "    .join(ground_truth_ids, buckets.bucket_id == ground_truth_ids.df1_id, how=\"inner\")\n",
    "\n",
    "tp = tp_arr.count()\n",
    "\n",
    "fp = buckets.filter(~array_contains(col(\"assigned_df1_ids\"), col(\"bucket_id\"))).count()\n",
    "fn = gt - tp\n",
    "\n",
    "precision = tp / (tp + fp) if tp + fp > 0 else 0\n",
    "recall = tp / (tp + fn) if tp + fn > 0 else 0\n",
    "\n",
    "print(_expected)\n",
    "print(f\"Ground Truth (gt): {gt}\")\n",
    "print(f\"True Positives (tp): {tp}\")\n",
    "print(f\"False Positives (fp): {fp}\")\n",
    "print(f\"False Negative (fn): {fn}\")\n",
    "print(f\"precision: {precision}\")\n",
    "print(f\"Recall: {recall}\")"
   ]
  },
  {
   "cell_type": "code",
   "execution_count": 20,
   "id": "c0e73235-51ea-458d-be60-f5220a830752",
   "metadata": {
    "tags": []
   },
   "outputs": [
    {
     "name": "stdout",
     "output_type": "stream",
     "text": [
      "+---------+--------------------+\n",
      "|bucket_id|    assigned_df1_ids|\n",
      "+---------+--------------------+\n",
      "| AA100187|          [AA100187]|\n",
      "| AA100252|          [AA100252]|\n",
      "| AA100290|          [AA100290]|\n",
      "| AA100327|          [AA100327]|\n",
      "| AA100360| [AA81619, AA100360]|\n",
      "| AA100381|          [AA100381]|\n",
      "| AA100422|          [AA100422]|\n",
      "|  AA10048|[AA97299, AA11609...|\n",
      "| AA100508|          [AA100508]|\n",
      "| AA100514|          [AA100514]|\n",
      "| AA100613|[AA192247, AA100613]|\n",
      "| AA100621|          [AA100621]|\n",
      "| AA100654|          [AA100654]|\n",
      "| AA100727|[AA100727, AA196019]|\n",
      "| AA100824|          [AA100824]|\n",
      "| AA100835|          [AA100835]|\n",
      "| AA100888|          [AA100888]|\n",
      "| AA100904|          [AA100904]|\n",
      "| AA100932|          [AA100932]|\n",
      "| AA100966|          [AA100966]|\n",
      "+---------+--------------------+\n",
      "only showing top 20 rows\n",
      "\n"
     ]
    }
   ],
   "source": [
    "buckets.show()"
   ]
  },
  {
   "cell_type": "code",
   "execution_count": 13,
   "id": "3f82f5ab-cd71-426f-b264-53f8135ade37",
   "metadata": {
    "tags": []
   },
   "outputs": [],
   "source": [
    "buckets.write.mode(\"overwrite\").parquet(\"data/output/buckets1.parquet\")"
   ]
  },
  {
   "cell_type": "code",
   "execution_count": null,
   "id": "bbb6e03f-b22a-4c2a-b97e-3f06b75efe6d",
   "metadata": {},
   "outputs": [],
   "source": []
  }
 ],
 "metadata": {
  "kernelspec": {
   "display_name": "Python 3 (ipykernel)",
   "language": "python",
   "name": "python3"
  },
  "language_info": {
   "codemirror_mode": {
    "name": "ipython",
    "version": 3
   },
   "file_extension": ".py",
   "mimetype": "text/x-python",
   "name": "python",
   "nbconvert_exporter": "python",
   "pygments_lexer": "ipython3",
   "version": "3.10.10"
  }
 },
 "nbformat": 4,
 "nbformat_minor": 5
}
